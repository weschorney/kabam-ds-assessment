{
 "cells": [
  {
   "cell_type": "markdown",
   "metadata": {},
   "source": [
    "# Kabam DS Take Home Assignment\n",
    "\n",
    "### Wesley Chorney"
   ]
  },
  {
   "cell_type": "code",
   "execution_count": 1,
   "metadata": {},
   "outputs": [
    {
     "name": "stderr",
     "output_type": "stream",
     "text": [
      "D:\\Anaconda\\lib\\site-packages\\dask\\dataframe\\utils.py:14: FutureWarning: pandas.util.testing is deprecated. Use the functions in the public API at pandas.testing instead.\n",
      "  import pandas.util.testing as tm\n"
     ]
    }
   ],
   "source": [
    "#import required libraries\n",
    "import numpy as np\n",
    "import pandas as pd\n",
    "import sqlite3\n",
    "import matplotlib.pyplot as plt\n",
    "import seaborn as sns\n",
    "import torch\n",
    "import torch.nn as nn\n",
    "import xgboost as xgb\n",
    "import imblearn\n",
    "\n",
    "from sklearn.model_selection import train_test_split\n",
    "from sklearn.preprocessing import MinMaxScaler\n",
    "from sklearn.metrics import classification_report, confusion_matrix\n",
    "\n",
    "#set seaborn as default\n",
    "sns.set()"
   ]
  },
  {
   "cell_type": "code",
   "execution_count": 2,
   "metadata": {},
   "outputs": [],
   "source": [
    "%matplotlib inline"
   ]
  },
  {
   "cell_type": "markdown",
   "metadata": {},
   "source": [
    "## Reading in the Data"
   ]
  },
  {
   "cell_type": "code",
   "execution_count": 3,
   "metadata": {},
   "outputs": [],
   "source": [
    "actions = pd.read_parquet('./ka_actions.parquet', engine='pyarrow')"
   ]
  },
  {
   "cell_type": "code",
   "execution_count": 4,
   "metadata": {},
   "outputs": [],
   "source": [
    "users = pd.read_csv('./ka_users.csv')"
   ]
  },
  {
   "cell_type": "code",
   "execution_count": 5,
   "metadata": {},
   "outputs": [],
   "source": [
    "con = sqlite3.connect('./ka_devices.db')\n",
    "cur = con.cursor()\n",
    "\n",
    "#get table info\n",
    "#because we are going to investigate a lot of these columns,\n",
    "#we won't use any fancy SQL\n",
    "rows = [row for row in cur.execute('SELECT * FROM devices')]\n",
    "\n",
    "#use the Row datatype for row_factory to get column names\n",
    "con.row_factory = sqlite3.Row\n",
    "cur = con.cursor()\n",
    "columns = cur.execute('SELECT * FROM devices LIMIT 1').fetchone().keys()\n",
    "\n",
    "#create the dataframe\n",
    "devices = pd.DataFrame(rows, columns=columns)\n",
    "devices.set_index('index', inplace=True)"
   ]
  },
  {
   "cell_type": "code",
   "execution_count": 6,
   "metadata": {},
   "outputs": [
    {
     "data": {
      "text/html": [
       "<div>\n",
       "<style scoped>\n",
       "    .dataframe tbody tr th:only-of-type {\n",
       "        vertical-align: middle;\n",
       "    }\n",
       "\n",
       "    .dataframe tbody tr th {\n",
       "        vertical-align: top;\n",
       "    }\n",
       "\n",
       "    .dataframe thead th {\n",
       "        text-align: right;\n",
       "    }\n",
       "</style>\n",
       "<table border=\"1\" class=\"dataframe\">\n",
       "  <thead>\n",
       "    <tr style=\"text-align: right;\">\n",
       "      <th></th>\n",
       "      <th>uid_s</th>\n",
       "      <th>platform_s</th>\n",
       "      <th>device_mapped_s</th>\n",
       "      <th>device_manufacturer_s</th>\n",
       "      <th>device_mem_i</th>\n",
       "      <th>device_gmem_i</th>\n",
       "      <th>device_mem_grouping_i</th>\n",
       "      <th>device_gmem_grouping_i</th>\n",
       "      <th>device_numcpu_i</th>\n",
       "      <th>device_height_i</th>\n",
       "      <th>device_gpu_s</th>\n",
       "      <th>device_os_s</th>\n",
       "      <th>device_model_s</th>\n",
       "    </tr>\n",
       "    <tr>\n",
       "      <th>index</th>\n",
       "      <th></th>\n",
       "      <th></th>\n",
       "      <th></th>\n",
       "      <th></th>\n",
       "      <th></th>\n",
       "      <th></th>\n",
       "      <th></th>\n",
       "      <th></th>\n",
       "      <th></th>\n",
       "      <th></th>\n",
       "      <th></th>\n",
       "      <th></th>\n",
       "      <th></th>\n",
       "    </tr>\n",
       "  </thead>\n",
       "  <tbody>\n",
       "    <tr>\n",
       "      <th>0</th>\n",
       "      <td>0</td>\n",
       "      <td>android</td>\n",
       "      <td>asus_x01ad</td>\n",
       "      <td>asus</td>\n",
       "      <td>3575.0</td>\n",
       "      <td>1024.0</td>\n",
       "      <td>3584.0</td>\n",
       "      <td>1024.0</td>\n",
       "      <td>8.0</td>\n",
       "      <td>720.0</td>\n",
       "      <td>adreno (tm) 506</td>\n",
       "      <td>android os 9 / api-28 (ww_phone-201905061022/1...</td>\n",
       "      <td>asus_x01ad</td>\n",
       "    </tr>\n",
       "    <tr>\n",
       "      <th>1</th>\n",
       "      <td>1</td>\n",
       "      <td>android</td>\n",
       "      <td>moto g (5)</td>\n",
       "      <td>motorola</td>\n",
       "      <td>1867.0</td>\n",
       "      <td>512.0</td>\n",
       "      <td>1920.0</td>\n",
       "      <td>512.0</td>\n",
       "      <td>8.0</td>\n",
       "      <td>1080.0</td>\n",
       "      <td>adreno (tm) 505</td>\n",
       "      <td>android os 8.1.0 / api-27 (opps28.85-13-6/04442)</td>\n",
       "      <td>moto g (5)</td>\n",
       "    </tr>\n",
       "    <tr>\n",
       "      <th>2</th>\n",
       "      <td>2</td>\n",
       "      <td>android</td>\n",
       "      <td>mi 6</td>\n",
       "      <td>xiaomi</td>\n",
       "      <td>3726.0</td>\n",
       "      <td>1024.0</td>\n",
       "      <td>3776.0</td>\n",
       "      <td>1024.0</td>\n",
       "      <td>8.0</td>\n",
       "      <td>1080.0</td>\n",
       "      <td>adreno (tm) 540</td>\n",
       "      <td>android os 8.0.0 / api-26 (opr1.170623.027/v10...</td>\n",
       "      <td>mi 6</td>\n",
       "    </tr>\n",
       "    <tr>\n",
       "      <th>3</th>\n",
       "      <td>3</td>\n",
       "      <td>android</td>\n",
       "      <td>oppo r7splus</td>\n",
       "      <td>oppo</td>\n",
       "      <td>3629.0</td>\n",
       "      <td>1024.0</td>\n",
       "      <td>3648.0</td>\n",
       "      <td>1024.0</td>\n",
       "      <td>8.0</td>\n",
       "      <td>1080.0</td>\n",
       "      <td>adreno (tm) 405</td>\n",
       "      <td>android os 5.1.1 / api-22 (lmy47v/eng.root.201...</td>\n",
       "      <td>oppo r7splus</td>\n",
       "    </tr>\n",
       "    <tr>\n",
       "      <th>4</th>\n",
       "      <td>4</td>\n",
       "      <td>android</td>\n",
       "      <td>cph1803</td>\n",
       "      <td>oppo</td>\n",
       "      <td>2816.0</td>\n",
       "      <td>1024.0</td>\n",
       "      <td>2816.0</td>\n",
       "      <td>1024.0</td>\n",
       "      <td>8.0</td>\n",
       "      <td>720.0</td>\n",
       "      <td>adreno (tm) 506</td>\n",
       "      <td>android os 8.1.0 / api-27 (opm1.171019.026/155...</td>\n",
       "      <td>cph1803</td>\n",
       "    </tr>\n",
       "    <tr>\n",
       "      <th>5</th>\n",
       "      <td>5</td>\n",
       "      <td>android</td>\n",
       "      <td>cph1729</td>\n",
       "      <td>oppo</td>\n",
       "      <td>2791.0</td>\n",
       "      <td>1024.0</td>\n",
       "      <td>2816.0</td>\n",
       "      <td>1024.0</td>\n",
       "      <td>8.0</td>\n",
       "      <td>720.0</td>\n",
       "      <td>mali-g71</td>\n",
       "      <td>android os 7.1.1 / api-25 (n6f26q/1553784554)</td>\n",
       "      <td>cph1729</td>\n",
       "    </tr>\n",
       "    <tr>\n",
       "      <th>6</th>\n",
       "      <td>6</td>\n",
       "      <td>android</td>\n",
       "      <td>oneplus a6010</td>\n",
       "      <td>oneplus</td>\n",
       "      <td>5633.0</td>\n",
       "      <td>2048.0</td>\n",
       "      <td>5696.0</td>\n",
       "      <td>2048.0</td>\n",
       "      <td>8.0</td>\n",
       "      <td>1080.0</td>\n",
       "      <td>adreno (tm) 630</td>\n",
       "      <td>android os 9 / api-28 (pkq1.180716.001/1904032...</td>\n",
       "      <td>oneplus a6010</td>\n",
       "    </tr>\n",
       "    <tr>\n",
       "      <th>7</th>\n",
       "      <td>7</td>\n",
       "      <td>android</td>\n",
       "      <td>oppo a83</td>\n",
       "      <td>oppo</td>\n",
       "      <td>2791.0</td>\n",
       "      <td>1024.0</td>\n",
       "      <td>2816.0</td>\n",
       "      <td>1024.0</td>\n",
       "      <td>8.0</td>\n",
       "      <td>720.0</td>\n",
       "      <td>mali-g71</td>\n",
       "      <td>android os 7.1.1 / api-25 (n6f26q/1554776020)</td>\n",
       "      <td>oppo a83</td>\n",
       "    </tr>\n",
       "    <tr>\n",
       "      <th>8</th>\n",
       "      <td>8</td>\n",
       "      <td>android</td>\n",
       "      <td>oppo a73</td>\n",
       "      <td>oppo</td>\n",
       "      <td>3780.0</td>\n",
       "      <td>1024.0</td>\n",
       "      <td>3840.0</td>\n",
       "      <td>1024.0</td>\n",
       "      <td>8.0</td>\n",
       "      <td>1080.0</td>\n",
       "      <td>mali-g71</td>\n",
       "      <td>android os 7.1.1 / api-25 (n6f26q/1555190393)</td>\n",
       "      <td>oppo a73</td>\n",
       "    </tr>\n",
       "    <tr>\n",
       "      <th>9</th>\n",
       "      <td>9</td>\n",
       "      <td>android</td>\n",
       "      <td>vivo 1718</td>\n",
       "      <td>vivo</td>\n",
       "      <td>3586.0</td>\n",
       "      <td>1024.0</td>\n",
       "      <td>3648.0</td>\n",
       "      <td>1024.0</td>\n",
       "      <td>8.0</td>\n",
       "      <td>720.0</td>\n",
       "      <td>adreno (tm) 506</td>\n",
       "      <td>android os 7.1.2 / api-25 (n2g47h/eng.compil.2...</td>\n",
       "      <td>vivo 1718</td>\n",
       "    </tr>\n",
       "  </tbody>\n",
       "</table>\n",
       "</div>"
      ],
      "text/plain": [
       "       uid_s platform_s device_mapped_s device_manufacturer_s  device_mem_i  \\\n",
       "index                                                                         \n",
       "0          0    android      asus_x01ad                  asus        3575.0   \n",
       "1          1    android      moto g (5)              motorola        1867.0   \n",
       "2          2    android            mi 6                xiaomi        3726.0   \n",
       "3          3    android    oppo r7splus                  oppo        3629.0   \n",
       "4          4    android         cph1803                  oppo        2816.0   \n",
       "5          5    android         cph1729                  oppo        2791.0   \n",
       "6          6    android   oneplus a6010               oneplus        5633.0   \n",
       "7          7    android        oppo a83                  oppo        2791.0   \n",
       "8          8    android        oppo a73                  oppo        3780.0   \n",
       "9          9    android       vivo 1718                  vivo        3586.0   \n",
       "\n",
       "       device_gmem_i  device_mem_grouping_i  device_gmem_grouping_i  \\\n",
       "index                                                                 \n",
       "0             1024.0                 3584.0                  1024.0   \n",
       "1              512.0                 1920.0                   512.0   \n",
       "2             1024.0                 3776.0                  1024.0   \n",
       "3             1024.0                 3648.0                  1024.0   \n",
       "4             1024.0                 2816.0                  1024.0   \n",
       "5             1024.0                 2816.0                  1024.0   \n",
       "6             2048.0                 5696.0                  2048.0   \n",
       "7             1024.0                 2816.0                  1024.0   \n",
       "8             1024.0                 3840.0                  1024.0   \n",
       "9             1024.0                 3648.0                  1024.0   \n",
       "\n",
       "       device_numcpu_i  device_height_i     device_gpu_s  \\\n",
       "index                                                      \n",
       "0                  8.0            720.0  adreno (tm) 506   \n",
       "1                  8.0           1080.0  adreno (tm) 505   \n",
       "2                  8.0           1080.0  adreno (tm) 540   \n",
       "3                  8.0           1080.0  adreno (tm) 405   \n",
       "4                  8.0            720.0  adreno (tm) 506   \n",
       "5                  8.0            720.0         mali-g71   \n",
       "6                  8.0           1080.0  adreno (tm) 630   \n",
       "7                  8.0            720.0         mali-g71   \n",
       "8                  8.0           1080.0         mali-g71   \n",
       "9                  8.0            720.0  adreno (tm) 506   \n",
       "\n",
       "                                             device_os_s device_model_s  \n",
       "index                                                                    \n",
       "0      android os 9 / api-28 (ww_phone-201905061022/1...     asus_x01ad  \n",
       "1       android os 8.1.0 / api-27 (opps28.85-13-6/04442)     moto g (5)  \n",
       "2      android os 8.0.0 / api-26 (opr1.170623.027/v10...           mi 6  \n",
       "3      android os 5.1.1 / api-22 (lmy47v/eng.root.201...   oppo r7splus  \n",
       "4      android os 8.1.0 / api-27 (opm1.171019.026/155...        cph1803  \n",
       "5          android os 7.1.1 / api-25 (n6f26q/1553784554)        cph1729  \n",
       "6      android os 9 / api-28 (pkq1.180716.001/1904032...  oneplus a6010  \n",
       "7          android os 7.1.1 / api-25 (n6f26q/1554776020)       oppo a83  \n",
       "8          android os 7.1.1 / api-25 (n6f26q/1555190393)       oppo a73  \n",
       "9      android os 7.1.2 / api-25 (n2g47h/eng.compil.2...      vivo 1718  "
      ]
     },
     "execution_count": 6,
     "metadata": {},
     "output_type": "execute_result"
    }
   ],
   "source": [
    "devices.head(10)"
   ]
  },
  {
   "cell_type": "code",
   "execution_count": 7,
   "metadata": {},
   "outputs": [
    {
     "data": {
      "text/html": [
       "<div>\n",
       "<style scoped>\n",
       "    .dataframe tbody tr th:only-of-type {\n",
       "        vertical-align: middle;\n",
       "    }\n",
       "\n",
       "    .dataframe tbody tr th {\n",
       "        vertical-align: top;\n",
       "    }\n",
       "\n",
       "    .dataframe thead th {\n",
       "        text-align: right;\n",
       "    }\n",
       "</style>\n",
       "<table border=\"1\" class=\"dataframe\">\n",
       "  <thead>\n",
       "    <tr style=\"text-align: right;\">\n",
       "      <th></th>\n",
       "      <th>uid_s</th>\n",
       "      <th>lang_s</th>\n",
       "      <th>geo_s</th>\n",
       "      <th>region_s</th>\n",
       "      <th>tz_i</th>\n",
       "      <th>local_time_join_hour</th>\n",
       "      <th>local_time_join_dow</th>\n",
       "      <th>total_spend</th>\n",
       "    </tr>\n",
       "  </thead>\n",
       "  <tbody>\n",
       "    <tr>\n",
       "      <th>0</th>\n",
       "      <td>0</td>\n",
       "      <td>EN</td>\n",
       "      <td>MY</td>\n",
       "      <td>asia</td>\n",
       "      <td>28800</td>\n",
       "      <td>14</td>\n",
       "      <td>3</td>\n",
       "      <td>0</td>\n",
       "    </tr>\n",
       "    <tr>\n",
       "      <th>1</th>\n",
       "      <td>1</td>\n",
       "      <td>ES</td>\n",
       "      <td>MX</td>\n",
       "      <td>americas</td>\n",
       "      <td>-18000</td>\n",
       "      <td>14</td>\n",
       "      <td>1</td>\n",
       "      <td>0</td>\n",
       "    </tr>\n",
       "    <tr>\n",
       "      <th>2</th>\n",
       "      <td>2</td>\n",
       "      <td>ZH-CN</td>\n",
       "      <td>CN</td>\n",
       "      <td>asia</td>\n",
       "      <td>28800</td>\n",
       "      <td>2</td>\n",
       "      <td>3</td>\n",
       "      <td>0</td>\n",
       "    </tr>\n",
       "    <tr>\n",
       "      <th>3</th>\n",
       "      <td>3</td>\n",
       "      <td>ZH-CN</td>\n",
       "      <td>CN</td>\n",
       "      <td>asia</td>\n",
       "      <td>28800</td>\n",
       "      <td>8</td>\n",
       "      <td>6</td>\n",
       "      <td>0</td>\n",
       "    </tr>\n",
       "    <tr>\n",
       "      <th>4</th>\n",
       "      <td>4</td>\n",
       "      <td>EN</td>\n",
       "      <td>IN</td>\n",
       "      <td>asia</td>\n",
       "      <td>19800</td>\n",
       "      <td>19</td>\n",
       "      <td>6</td>\n",
       "      <td>0</td>\n",
       "    </tr>\n",
       "    <tr>\n",
       "      <th>5</th>\n",
       "      <td>5</td>\n",
       "      <td>EN</td>\n",
       "      <td>ID</td>\n",
       "      <td>asia</td>\n",
       "      <td>25200</td>\n",
       "      <td>11</td>\n",
       "      <td>6</td>\n",
       "      <td>0</td>\n",
       "    </tr>\n",
       "    <tr>\n",
       "      <th>6</th>\n",
       "      <td>6</td>\n",
       "      <td>EN</td>\n",
       "      <td>IN</td>\n",
       "      <td>asia</td>\n",
       "      <td>19800</td>\n",
       "      <td>23</td>\n",
       "      <td>2</td>\n",
       "      <td>0</td>\n",
       "    </tr>\n",
       "    <tr>\n",
       "      <th>7</th>\n",
       "      <td>7</td>\n",
       "      <td>ZH-CN</td>\n",
       "      <td>CN</td>\n",
       "      <td>asia</td>\n",
       "      <td>28800</td>\n",
       "      <td>22</td>\n",
       "      <td>2</td>\n",
       "      <td>0</td>\n",
       "    </tr>\n",
       "    <tr>\n",
       "      <th>8</th>\n",
       "      <td>8</td>\n",
       "      <td>ZH-CN</td>\n",
       "      <td>CN</td>\n",
       "      <td>asia</td>\n",
       "      <td>28800</td>\n",
       "      <td>16</td>\n",
       "      <td>6</td>\n",
       "      <td>0</td>\n",
       "    </tr>\n",
       "    <tr>\n",
       "      <th>9</th>\n",
       "      <td>9</td>\n",
       "      <td>EN</td>\n",
       "      <td>IN</td>\n",
       "      <td>asia</td>\n",
       "      <td>19800</td>\n",
       "      <td>6</td>\n",
       "      <td>6</td>\n",
       "      <td>0</td>\n",
       "    </tr>\n",
       "  </tbody>\n",
       "</table>\n",
       "</div>"
      ],
      "text/plain": [
       "   uid_s lang_s geo_s  region_s   tz_i  local_time_join_hour  \\\n",
       "0      0     EN    MY      asia  28800                    14   \n",
       "1      1     ES    MX  americas -18000                    14   \n",
       "2      2  ZH-CN    CN      asia  28800                     2   \n",
       "3      3  ZH-CN    CN      asia  28800                     8   \n",
       "4      4     EN    IN      asia  19800                    19   \n",
       "5      5     EN    ID      asia  25200                    11   \n",
       "6      6     EN    IN      asia  19800                    23   \n",
       "7      7  ZH-CN    CN      asia  28800                    22   \n",
       "8      8  ZH-CN    CN      asia  28800                    16   \n",
       "9      9     EN    IN      asia  19800                     6   \n",
       "\n",
       "   local_time_join_dow  total_spend  \n",
       "0                    3            0  \n",
       "1                    1            0  \n",
       "2                    3            0  \n",
       "3                    6            0  \n",
       "4                    6            0  \n",
       "5                    6            0  \n",
       "6                    2            0  \n",
       "7                    2            0  \n",
       "8                    6            0  \n",
       "9                    6            0  "
      ]
     },
     "execution_count": 7,
     "metadata": {},
     "output_type": "execute_result"
    }
   ],
   "source": [
    "users.head(10)"
   ]
  },
  {
   "cell_type": "code",
   "execution_count": 8,
   "metadata": {},
   "outputs": [
    {
     "data": {
      "text/html": [
       "<div>\n",
       "<style scoped>\n",
       "    .dataframe tbody tr th:only-of-type {\n",
       "        vertical-align: middle;\n",
       "    }\n",
       "\n",
       "    .dataframe tbody tr th {\n",
       "        vertical-align: top;\n",
       "    }\n",
       "\n",
       "    .dataframe thead th {\n",
       "        text-align: right;\n",
       "    }\n",
       "</style>\n",
       "<table border=\"1\" class=\"dataframe\">\n",
       "  <thead>\n",
       "    <tr style=\"text-align: right;\">\n",
       "      <th></th>\n",
       "      <th>uid_s</th>\n",
       "      <th>logins</th>\n",
       "      <th>game_stats_tutorial_complete</th>\n",
       "      <th>game_stats_tutorial_complete_time</th>\n",
       "      <th>game_stats_xp</th>\n",
       "      <th>game_stats_xp1</th>\n",
       "      <th>game_stats_xp2</th>\n",
       "      <th>game_stats_xp3</th>\n",
       "      <th>redeemer_actions</th>\n",
       "      <th>scribe_actions</th>\n",
       "    </tr>\n",
       "  </thead>\n",
       "  <tbody>\n",
       "    <tr>\n",
       "      <th>0</th>\n",
       "      <td>0</td>\n",
       "      <td>7.0</td>\n",
       "      <td>1.0</td>\n",
       "      <td>4.700000e+08</td>\n",
       "      <td>1693.0</td>\n",
       "      <td>592.0</td>\n",
       "      <td>0.0</td>\n",
       "      <td>429.0</td>\n",
       "      <td>446.0</td>\n",
       "      <td>364.0</td>\n",
       "    </tr>\n",
       "    <tr>\n",
       "      <th>1</th>\n",
       "      <td>1</td>\n",
       "      <td>2.0</td>\n",
       "      <td>1.0</td>\n",
       "      <td>6.120000e+08</td>\n",
       "      <td>197.0</td>\n",
       "      <td>197.0</td>\n",
       "      <td>0.0</td>\n",
       "      <td>0.0</td>\n",
       "      <td>60.0</td>\n",
       "      <td>125.0</td>\n",
       "    </tr>\n",
       "    <tr>\n",
       "      <th>2</th>\n",
       "      <td>2</td>\n",
       "      <td>2.0</td>\n",
       "      <td>1.0</td>\n",
       "      <td>3.900000e+08</td>\n",
       "      <td>313.0</td>\n",
       "      <td>313.0</td>\n",
       "      <td>0.0</td>\n",
       "      <td>0.0</td>\n",
       "      <td>89.0</td>\n",
       "      <td>129.0</td>\n",
       "    </tr>\n",
       "    <tr>\n",
       "      <th>3</th>\n",
       "      <td>3</td>\n",
       "      <td>3.0</td>\n",
       "      <td>1.0</td>\n",
       "      <td>6.610000e+08</td>\n",
       "      <td>1319.0</td>\n",
       "      <td>1319.0</td>\n",
       "      <td>0.0</td>\n",
       "      <td>0.0</td>\n",
       "      <td>275.0</td>\n",
       "      <td>200.0</td>\n",
       "    </tr>\n",
       "    <tr>\n",
       "      <th>4</th>\n",
       "      <td>4</td>\n",
       "      <td>4.0</td>\n",
       "      <td>1.0</td>\n",
       "      <td>3.147000e+09</td>\n",
       "      <td>148.0</td>\n",
       "      <td>148.0</td>\n",
       "      <td>0.0</td>\n",
       "      <td>0.0</td>\n",
       "      <td>58.0</td>\n",
       "      <td>138.0</td>\n",
       "    </tr>\n",
       "    <tr>\n",
       "      <th>5</th>\n",
       "      <td>5</td>\n",
       "      <td>4.0</td>\n",
       "      <td>1.0</td>\n",
       "      <td>5.470000e+08</td>\n",
       "      <td>879.0</td>\n",
       "      <td>312.0</td>\n",
       "      <td>0.0</td>\n",
       "      <td>0.0</td>\n",
       "      <td>209.0</td>\n",
       "      <td>186.0</td>\n",
       "    </tr>\n",
       "    <tr>\n",
       "      <th>6</th>\n",
       "      <td>6</td>\n",
       "      <td>2.0</td>\n",
       "      <td>NaN</td>\n",
       "      <td>NaN</td>\n",
       "      <td>NaN</td>\n",
       "      <td>NaN</td>\n",
       "      <td>NaN</td>\n",
       "      <td>NaN</td>\n",
       "      <td>17.0</td>\n",
       "      <td>48.0</td>\n",
       "    </tr>\n",
       "    <tr>\n",
       "      <th>7</th>\n",
       "      <td>7</td>\n",
       "      <td>2.0</td>\n",
       "      <td>1.0</td>\n",
       "      <td>5.820000e+08</td>\n",
       "      <td>313.0</td>\n",
       "      <td>313.0</td>\n",
       "      <td>0.0</td>\n",
       "      <td>0.0</td>\n",
       "      <td>87.0</td>\n",
       "      <td>128.0</td>\n",
       "    </tr>\n",
       "    <tr>\n",
       "      <th>8</th>\n",
       "      <td>8</td>\n",
       "      <td>2.0</td>\n",
       "      <td>NaN</td>\n",
       "      <td>NaN</td>\n",
       "      <td>80.0</td>\n",
       "      <td>80.0</td>\n",
       "      <td>0.0</td>\n",
       "      <td>0.0</td>\n",
       "      <td>36.0</td>\n",
       "      <td>99.0</td>\n",
       "    </tr>\n",
       "    <tr>\n",
       "      <th>9</th>\n",
       "      <td>9</td>\n",
       "      <td>3.0</td>\n",
       "      <td>1.0</td>\n",
       "      <td>2.131900e+10</td>\n",
       "      <td>193.0</td>\n",
       "      <td>80.0</td>\n",
       "      <td>0.0</td>\n",
       "      <td>0.0</td>\n",
       "      <td>60.0</td>\n",
       "      <td>133.0</td>\n",
       "    </tr>\n",
       "  </tbody>\n",
       "</table>\n",
       "</div>"
      ],
      "text/plain": [
       "   uid_s  logins  game_stats_tutorial_complete  \\\n",
       "0      0     7.0                           1.0   \n",
       "1      1     2.0                           1.0   \n",
       "2      2     2.0                           1.0   \n",
       "3      3     3.0                           1.0   \n",
       "4      4     4.0                           1.0   \n",
       "5      5     4.0                           1.0   \n",
       "6      6     2.0                           NaN   \n",
       "7      7     2.0                           1.0   \n",
       "8      8     2.0                           NaN   \n",
       "9      9     3.0                           1.0   \n",
       "\n",
       "   game_stats_tutorial_complete_time  game_stats_xp  game_stats_xp1  \\\n",
       "0                       4.700000e+08         1693.0           592.0   \n",
       "1                       6.120000e+08          197.0           197.0   \n",
       "2                       3.900000e+08          313.0           313.0   \n",
       "3                       6.610000e+08         1319.0          1319.0   \n",
       "4                       3.147000e+09          148.0           148.0   \n",
       "5                       5.470000e+08          879.0           312.0   \n",
       "6                                NaN            NaN             NaN   \n",
       "7                       5.820000e+08          313.0           313.0   \n",
       "8                                NaN           80.0            80.0   \n",
       "9                       2.131900e+10          193.0            80.0   \n",
       "\n",
       "   game_stats_xp2  game_stats_xp3  redeemer_actions  scribe_actions  \n",
       "0             0.0           429.0             446.0           364.0  \n",
       "1             0.0             0.0              60.0           125.0  \n",
       "2             0.0             0.0              89.0           129.0  \n",
       "3             0.0             0.0             275.0           200.0  \n",
       "4             0.0             0.0              58.0           138.0  \n",
       "5             0.0             0.0             209.0           186.0  \n",
       "6             NaN             NaN              17.0            48.0  \n",
       "7             0.0             0.0              87.0           128.0  \n",
       "8             0.0             0.0              36.0            99.0  \n",
       "9             0.0             0.0              60.0           133.0  "
      ]
     },
     "execution_count": 8,
     "metadata": {},
     "output_type": "execute_result"
    }
   ],
   "source": [
    "actions.head(10)"
   ]
  },
  {
   "cell_type": "code",
   "execution_count": 9,
   "metadata": {},
   "outputs": [],
   "source": [
    "#replace nans in the tutorial completion column with zero\n",
    "actions['game_stats_tutorial_complete'] = actions['game_stats_tutorial_complete'].fillna(0)"
   ]
  },
  {
   "cell_type": "code",
   "execution_count": 10,
   "metadata": {},
   "outputs": [
    {
     "data": {
      "text/plain": [
       "((2845931, 8), (2845931, 10))"
      ]
     },
     "execution_count": 10,
     "metadata": {},
     "output_type": "execute_result"
    }
   ],
   "source": [
    "users.shape, actions.shape"
   ]
  },
  {
   "cell_type": "code",
   "execution_count": 11,
   "metadata": {},
   "outputs": [
    {
     "data": {
      "text/html": [
       "<div>\n",
       "<style scoped>\n",
       "    .dataframe tbody tr th:only-of-type {\n",
       "        vertical-align: middle;\n",
       "    }\n",
       "\n",
       "    .dataframe tbody tr th {\n",
       "        vertical-align: top;\n",
       "    }\n",
       "\n",
       "    .dataframe thead th {\n",
       "        text-align: right;\n",
       "    }\n",
       "</style>\n",
       "<table border=\"1\" class=\"dataframe\">\n",
       "  <thead>\n",
       "    <tr style=\"text-align: right;\">\n",
       "      <th></th>\n",
       "      <th>uid_s</th>\n",
       "      <th>lang_s</th>\n",
       "      <th>geo_s</th>\n",
       "      <th>region_s</th>\n",
       "      <th>tz_i</th>\n",
       "      <th>local_time_join_hour</th>\n",
       "      <th>local_time_join_dow</th>\n",
       "      <th>total_spend</th>\n",
       "    </tr>\n",
       "  </thead>\n",
       "  <tbody>\n",
       "    <tr>\n",
       "      <th>13</th>\n",
       "      <td>13</td>\n",
       "      <td>ZH-CN</td>\n",
       "      <td>CN</td>\n",
       "      <td>asia</td>\n",
       "      <td>28800</td>\n",
       "      <td>11</td>\n",
       "      <td>6</td>\n",
       "      <td>70</td>\n",
       "    </tr>\n",
       "    <tr>\n",
       "      <th>160</th>\n",
       "      <td>160</td>\n",
       "      <td>EN</td>\n",
       "      <td>US</td>\n",
       "      <td>americas</td>\n",
       "      <td>-18000</td>\n",
       "      <td>15</td>\n",
       "      <td>5</td>\n",
       "      <td>140</td>\n",
       "    </tr>\n",
       "    <tr>\n",
       "      <th>181</th>\n",
       "      <td>181</td>\n",
       "      <td>JA</td>\n",
       "      <td>JP</td>\n",
       "      <td>asia</td>\n",
       "      <td>32400</td>\n",
       "      <td>5</td>\n",
       "      <td>6</td>\n",
       "      <td>160</td>\n",
       "    </tr>\n",
       "    <tr>\n",
       "      <th>214</th>\n",
       "      <td>214</td>\n",
       "      <td>EN</td>\n",
       "      <td>US</td>\n",
       "      <td>americas</td>\n",
       "      <td>-14400</td>\n",
       "      <td>16</td>\n",
       "      <td>5</td>\n",
       "      <td>70</td>\n",
       "    </tr>\n",
       "    <tr>\n",
       "      <th>551</th>\n",
       "      <td>551</td>\n",
       "      <td>EN</td>\n",
       "      <td>US</td>\n",
       "      <td>americas</td>\n",
       "      <td>-18000</td>\n",
       "      <td>15</td>\n",
       "      <td>5</td>\n",
       "      <td>40</td>\n",
       "    </tr>\n",
       "    <tr>\n",
       "      <th>...</th>\n",
       "      <td>...</td>\n",
       "      <td>...</td>\n",
       "      <td>...</td>\n",
       "      <td>...</td>\n",
       "      <td>...</td>\n",
       "      <td>...</td>\n",
       "      <td>...</td>\n",
       "      <td>...</td>\n",
       "    </tr>\n",
       "    <tr>\n",
       "      <th>2845298</th>\n",
       "      <td>2845298</td>\n",
       "      <td>ZH-CN</td>\n",
       "      <td>CN</td>\n",
       "      <td>asia</td>\n",
       "      <td>28800</td>\n",
       "      <td>15</td>\n",
       "      <td>5</td>\n",
       "      <td>40</td>\n",
       "    </tr>\n",
       "    <tr>\n",
       "      <th>2845309</th>\n",
       "      <td>2845309</td>\n",
       "      <td>ZH-TW</td>\n",
       "      <td>CN</td>\n",
       "      <td>asia</td>\n",
       "      <td>28800</td>\n",
       "      <td>15</td>\n",
       "      <td>5</td>\n",
       "      <td>125</td>\n",
       "    </tr>\n",
       "    <tr>\n",
       "      <th>2845589</th>\n",
       "      <td>2845589</td>\n",
       "      <td>ZH-CN</td>\n",
       "      <td>CN</td>\n",
       "      <td>asia</td>\n",
       "      <td>28800</td>\n",
       "      <td>15</td>\n",
       "      <td>5</td>\n",
       "      <td>285</td>\n",
       "    </tr>\n",
       "    <tr>\n",
       "      <th>2845632</th>\n",
       "      <td>2845632</td>\n",
       "      <td>EN</td>\n",
       "      <td>VN</td>\n",
       "      <td>asia</td>\n",
       "      <td>25200</td>\n",
       "      <td>14</td>\n",
       "      <td>5</td>\n",
       "      <td>35</td>\n",
       "    </tr>\n",
       "    <tr>\n",
       "      <th>2845730</th>\n",
       "      <td>2845730</td>\n",
       "      <td>ZH-CN</td>\n",
       "      <td>CN</td>\n",
       "      <td>asia</td>\n",
       "      <td>28800</td>\n",
       "      <td>15</td>\n",
       "      <td>5</td>\n",
       "      <td>105</td>\n",
       "    </tr>\n",
       "  </tbody>\n",
       "</table>\n",
       "<p>32396 rows × 8 columns</p>\n",
       "</div>"
      ],
      "text/plain": [
       "           uid_s lang_s geo_s  region_s   tz_i  local_time_join_hour  \\\n",
       "13            13  ZH-CN    CN      asia  28800                    11   \n",
       "160          160     EN    US  americas -18000                    15   \n",
       "181          181     JA    JP      asia  32400                     5   \n",
       "214          214     EN    US  americas -14400                    16   \n",
       "551          551     EN    US  americas -18000                    15   \n",
       "...          ...    ...   ...       ...    ...                   ...   \n",
       "2845298  2845298  ZH-CN    CN      asia  28800                    15   \n",
       "2845309  2845309  ZH-TW    CN      asia  28800                    15   \n",
       "2845589  2845589  ZH-CN    CN      asia  28800                    15   \n",
       "2845632  2845632     EN    VN      asia  25200                    14   \n",
       "2845730  2845730  ZH-CN    CN      asia  28800                    15   \n",
       "\n",
       "         local_time_join_dow  total_spend  \n",
       "13                         6           70  \n",
       "160                        5          140  \n",
       "181                        6          160  \n",
       "214                        5           70  \n",
       "551                        5           40  \n",
       "...                      ...          ...  \n",
       "2845298                    5           40  \n",
       "2845309                    5          125  \n",
       "2845589                    5          285  \n",
       "2845632                    5           35  \n",
       "2845730                    5          105  \n",
       "\n",
       "[32396 rows x 8 columns]"
      ]
     },
     "execution_count": 11,
     "metadata": {},
     "output_type": "execute_result"
    }
   ],
   "source": [
    "#A small amount of conversions!\n",
    "users[users['total_spend'] != 0]"
   ]
  },
  {
   "cell_type": "code",
   "execution_count": 12,
   "metadata": {},
   "outputs": [],
   "source": [
    "#create label column for classification\n",
    "users['converted'] = (users['total_spend'] > 0).apply(int)"
   ]
  },
  {
   "cell_type": "code",
   "execution_count": 13,
   "metadata": {},
   "outputs": [],
   "source": [
    "#merge frames\n",
    "#though the data looks perfectly aligned it is safer to merge\n",
    "df1 = pd.merge(actions, devices, on='uid_s')\n",
    "df = pd.merge(users, df1, on='uid_s')\n",
    "\n",
    "completed = df[df['game_stats_tutorial_complete'] != 0].copy()"
   ]
  },
  {
   "cell_type": "code",
   "execution_count": 14,
   "metadata": {},
   "outputs": [
    {
     "name": "stdout",
     "output_type": "stream",
     "text": [
      "(2845931, 30)\n",
      "(1751748, 30)\n"
     ]
    }
   ],
   "source": [
    "#data is well-aligned\n",
    "print(df.shape)\n",
    "print(completed.shape)"
   ]
  },
  {
   "cell_type": "markdown",
   "metadata": {},
   "source": [
    "## Preprocessing/EDA Phase\n",
    "\n",
    "We begin with a short EDA of the data. We have a wealth of data, but we will convert our data to numeric values for ease-of-use when modelling. Some columns we will drop altogether, since they are irrelevant or should be highly correlated to other columns (such as `lang_s`, `tz_i`, `game_stats_tutorial_complete`), while others we will first investigate before dropping or altering the values. \n",
    "\n",
    "For many of these columns, we will look at whether the distributions differ significantly between converted versus non-converted users. If there appears to be little difference, we will drop the columns. Note that this approach is technically naive, we are not considering joint distributions. However, given limited computing power and a relatively small amount of time, it is a reasonable procedure for trimming down features."
   ]
  },
  {
   "cell_type": "markdown",
   "metadata": {},
   "source": [
    "We first begin by looking into the NaN values in our data."
   ]
  },
  {
   "cell_type": "code",
   "execution_count": 15,
   "metadata": {},
   "outputs": [
    {
     "data": {
      "text/plain": [
       "uid_s                                 0\n",
       "lang_s                                0\n",
       "geo_s                                66\n",
       "region_s                              0\n",
       "tz_i                                  0\n",
       "local_time_join_hour                  0\n",
       "local_time_join_dow                   0\n",
       "total_spend                           0\n",
       "converted                             0\n",
       "logins                               12\n",
       "game_stats_tutorial_complete          0\n",
       "game_stats_tutorial_complete_time     0\n",
       "game_stats_xp                        63\n",
       "game_stats_xp1                       63\n",
       "game_stats_xp2                       63\n",
       "game_stats_xp3                       63\n",
       "redeemer_actions                      0\n",
       "scribe_actions                        0\n",
       "platform_s                            0\n",
       "device_mapped_s                       4\n",
       "device_manufacturer_s                 2\n",
       "device_mem_i                          1\n",
       "device_gmem_i                         1\n",
       "device_mem_grouping_i                 1\n",
       "device_gmem_grouping_i                1\n",
       "device_numcpu_i                       1\n",
       "device_height_i                       1\n",
       "device_gpu_s                          1\n",
       "device_os_s                           1\n",
       "device_model_s                        4\n",
       "dtype: int64"
      ]
     },
     "execution_count": 15,
     "metadata": {},
     "output_type": "execute_result"
    }
   ],
   "source": [
    "completed.isna().sum()"
   ]
  },
  {
   "cell_type": "markdown",
   "metadata": {},
   "source": [
    "With such a small amount of NaNs compared to our data, it is safe to drop them."
   ]
  },
  {
   "cell_type": "code",
   "execution_count": 16,
   "metadata": {},
   "outputs": [],
   "source": [
    "completed.dropna(inplace=True)"
   ]
  },
  {
   "cell_type": "code",
   "execution_count": 17,
   "metadata": {},
   "outputs": [
    {
     "name": "stdout",
     "output_type": "stream",
     "text": [
      "Percent converted users: 1.14\n"
     ]
    },
    {
     "data": {
      "image/png": "[encoded data removed]",
      "text/plain": [
       "<Figure size 432x288 with 1 Axes>"
      ]
     },
     "metadata": {
      "needs_background": "light"
     },
     "output_type": "display_data"
    }
   ],
   "source": [
    "#see converted users overall and print their percent\n",
    "users.groupby('converted').size().plot(kind='bar')\n",
    "print(f\"Percent converted users: {round(100*users['converted'].sum()/users.shape[0],2)}\")"
   ]
  },
  {
   "cell_type": "code",
   "execution_count": 18,
   "metadata": {},
   "outputs": [
    {
     "name": "stdout",
     "output_type": "stream",
     "text": [
      "Percent converted users: 1.75\n"
     ]
    },
    {
     "data": {
      "image/png": "[encoded data removed]",
      "text/plain": [
       "<Figure size 432x288 with 1 Axes>"
      ]
     },
     "metadata": {
      "needs_background": "light"
     },
     "output_type": "display_data"
    }
   ],
   "source": [
    "#see converted users out of those who have completed tutorial and print their percent\n",
    "completed.groupby('converted').size().plot(kind='bar')\n",
    "print(f\"Percent converted users: {round(100*completed['converted'].sum()/completed.shape[0],2)}\")"
   ]
  },
  {
   "cell_type": "code",
   "execution_count": 19,
   "metadata": {},
   "outputs": [
    {
     "data": {
      "text/plain": [
       "<AxesSubplot:xlabel='game_stats_tutorial_complete'>"
      ]
     },
     "execution_count": 19,
     "metadata": {},
     "output_type": "execute_result"
    },
    {
     "data": {
      "image/png": "[encoded data removed]",
      "text/plain": [
       "<Figure size 432x288 with 1 Axes>"
      ]
     },
     "metadata": {
      "needs_background": "light"
     },
     "output_type": "display_data"
    }
   ],
   "source": [
    "actions.groupby('game_stats_tutorial_complete').size().plot(kind='bar')"
   ]
  },
  {
   "cell_type": "code",
   "execution_count": 20,
   "metadata": {},
   "outputs": [
    {
     "name": "stdout",
     "output_type": "stream",
     "text": [
      "Fraction of users who completed the tutorial: 0.6154766225885308\n"
     ]
    }
   ],
   "source": [
    "print(f\"Fraction of users who completed the tutorial: {completed.shape[0]/df.shape[0]}\")"
   ]
  },
  {
   "cell_type": "code",
   "execution_count": 21,
   "metadata": {},
   "outputs": [],
   "source": [
    "completed.drop(columns=['lang_s', 'tz_i', 'game_stats_tutorial_complete'], inplace=True)"
   ]
  },
  {
   "cell_type": "code",
   "execution_count": 22,
   "metadata": {},
   "outputs": [
    {
     "data": {
      "image/png": "[encoded data removed]",
      "text/plain": [
       "<Figure size 432x288 with 1 Axes>"
      ]
     },
     "metadata": {
      "needs_background": "light"
     },
     "output_type": "display_data"
    }
   ],
   "source": [
    "def make_hist(df, plot_col, col, filters, bins=None, **kwargs):\n",
    "    plt.clf()\n",
    "    x = df[df[col] == filters][plot_col]\n",
    "    y = df[df[col] != filters][plot_col]\n",
    "    plt.hist([x, y], color=['r', 'b'], bins=bins, density=True)\n",
    "    plt.title(kwargs.get('title', ''))\n",
    "    plt.xlabel(kwargs.get('xlabel', ''))\n",
    "    plt.ylabel(kwargs.get('ylabel', ''))\n",
    "    plt.show()\n",
    "    return\n",
    "\n",
    "#drop this column\n",
    "make_hist(completed, 'local_time_join_hour', 'converted', 0, xlabel='local_time_join_hour', ylabel='density')"
   ]
  },
  {
   "cell_type": "code",
   "execution_count": 23,
   "metadata": {},
   "outputs": [
    {
     "data": {
      "image/png": "[encoded data removed]",
      "text/plain": [
       "<Figure size 432x288 with 1 Axes>"
      ]
     },
     "metadata": {
      "needs_background": "light"
     },
     "output_type": "display_data"
    }
   ],
   "source": [
    "#drop this column\n",
    "make_hist(completed, 'local_time_join_dow', 'converted', 0, xlabel='local_time_join_dow', ylabel='density')"
   ]
  },
  {
   "cell_type": "code",
   "execution_count": 24,
   "metadata": {},
   "outputs": [
    {
     "data": {
      "image/png": "[encoded data removed]",
      "text/plain": [
       "<Figure size 432x288 with 1 Axes>"
      ]
     },
     "metadata": {
      "needs_background": "light"
     },
     "output_type": "display_data"
    }
   ],
   "source": [
    "#drop this column and related\n",
    "make_hist(completed, 'device_mem_i', 'converted', 0, xlabel='device_mem_i', ylabel='density')"
   ]
  },
  {
   "cell_type": "code",
   "execution_count": 25,
   "metadata": {},
   "outputs": [
    {
     "data": {
      "image/png": "[encoded data removed]",
      "text/plain": [
       "<Figure size 432x288 with 1 Axes>"
      ]
     },
     "metadata": {
      "needs_background": "light"
     },
     "output_type": "display_data"
    }
   ],
   "source": [
    "#drop this column and related\n",
    "make_hist(completed, 'device_gmem_i', 'converted', 0, xlabel='device_gmem_i', ylabel='density')"
   ]
  },
  {
   "cell_type": "code",
   "execution_count": 26,
   "metadata": {},
   "outputs": [
    {
     "data": {
      "image/png": "[encoded data removed]",
      "text/plain": [
       "<Figure size 432x288 with 1 Axes>"
      ]
     },
     "metadata": {
      "needs_background": "light"
     },
     "output_type": "display_data"
    }
   ],
   "source": [
    "#keep this column\n",
    "make_hist(completed, 'device_numcpu_i', 'converted', 0, xlabel='device_numcpu_i', ylabel='density')"
   ]
  },
  {
   "cell_type": "code",
   "execution_count": 27,
   "metadata": {},
   "outputs": [
    {
     "data": {
      "image/png": "[encoded data removed]",
      "text/plain": [
       "<Figure size 432x288 with 1 Axes>"
      ]
     },
     "metadata": {
      "needs_background": "light"
     },
     "output_type": "display_data"
    }
   ],
   "source": [
    "#keep this column\n",
    "make_hist(completed, 'device_height_i', 'converted', 0, xlabel='device_height_i', ylabel='density')"
   ]
  },
  {
   "cell_type": "code",
   "execution_count": 28,
   "metadata": {
    "scrolled": true
   },
   "outputs": [
    {
     "data": {
      "image/png": "[encoded data removed]",
      "text/plain": [
       "<Figure size 432x288 with 1 Axes>"
      ]
     },
     "metadata": {
      "needs_background": "light"
     },
     "output_type": "display_data"
    }
   ],
   "source": [
    "#keep this column\n",
    "make_hist(completed, 'platform_s', 'converted', 0, xlabel='platform_s', ylabel='density')"
   ]
  },
  {
   "cell_type": "code",
   "execution_count": 29,
   "metadata": {},
   "outputs": [
    {
     "data": {
      "image/png": "[encoded data removed]",
      "text/plain": [
       "<Figure size 432x288 with 1 Axes>"
      ]
     },
     "metadata": {
      "needs_background": "light"
     },
     "output_type": "display_data"
    }
   ],
   "source": [
    "#keep this column\n",
    "make_hist(completed, 'logins', 'converted', 0, xlabel='logins', ylabel='density', bins=[0, 2, 5, 10, 25, 50, 100])"
   ]
  },
  {
   "cell_type": "code",
   "execution_count": 30,
   "metadata": {},
   "outputs": [
    {
     "data": {
      "image/png": "[encoded data removed]",
      "text/plain": [
       "<Figure size 432x288 with 1 Axes>"
      ]
     },
     "metadata": {
      "needs_background": "light"
     },
     "output_type": "display_data"
    }
   ],
   "source": [
    "#keep this column\n",
    "make_hist(completed, 'game_stats_xp', 'converted', 0, xlabel='game_stats_xp',\n",
    "          ylabel='density', bins=[0, 100, 1000, 10000, 50000])"
   ]
  },
  {
   "cell_type": "code",
   "execution_count": 31,
   "metadata": {},
   "outputs": [
    {
     "data": {
      "image/png": "[encoded data removed]",
      "text/plain": [
       "<Figure size 432x288 with 1 Axes>"
      ]
     },
     "metadata": {
      "needs_background": "light"
     },
     "output_type": "display_data"
    }
   ],
   "source": [
    "#keep this column\n",
    "make_hist(completed, 'game_stats_xp1', 'converted', 0, xlabel='game_stats_xp1',\n",
    "          ylabel='density', bins=[0, 100, 1000, 10000, 50000])"
   ]
  },
  {
   "cell_type": "code",
   "execution_count": 32,
   "metadata": {},
   "outputs": [
    {
     "data": {
      "image/png": "[encoded data removed]",
      "text/plain": [
       "<Figure size 432x288 with 1 Axes>"
      ]
     },
     "metadata": {
      "needs_background": "light"
     },
     "output_type": "display_data"
    }
   ],
   "source": [
    "#keep this column\n",
    "make_hist(completed, 'game_stats_xp2', 'converted', 0, xlabel='game_stats_xp2',\n",
    "          ylabel='density', bins=[0, 50, 500, 1000])"
   ]
  },
  {
   "cell_type": "code",
   "execution_count": 33,
   "metadata": {},
   "outputs": [
    {
     "data": {
      "image/png": "[encoded data removed]",
      "text/plain": [
       "<Figure size 432x288 with 1 Axes>"
      ]
     },
     "metadata": {
      "needs_background": "light"
     },
     "output_type": "display_data"
    }
   ],
   "source": [
    "#keep this column\n",
    "make_hist(completed, 'game_stats_xp3', 'converted', 0, xlabel='game_stats_xp3',\n",
    "          ylabel='density', bins=[0, 50, 500, 1000])"
   ]
  },
  {
   "cell_type": "code",
   "execution_count": 34,
   "metadata": {},
   "outputs": [
    {
     "data": {
      "image/png": "[encoded data removed]",
      "text/plain": [
       "<Figure size 432x288 with 1 Axes>"
      ]
     },
     "metadata": {
      "needs_background": "light"
     },
     "output_type": "display_data"
    }
   ],
   "source": [
    "#keep this column\n",
    "make_hist(completed, 'redeemer_actions', 'converted', 0, xlabel='redeemer_actions', ylabel='density')"
   ]
  },
  {
   "cell_type": "code",
   "execution_count": 35,
   "metadata": {},
   "outputs": [
    {
     "data": {
      "image/png": "[encoded data removed]",
      "text/plain": [
       "<Figure size 432x288 with 1 Axes>"
      ]
     },
     "metadata": {
      "needs_background": "light"
     },
     "output_type": "display_data"
    }
   ],
   "source": [
    "#keep this column\n",
    "make_hist(completed, 'scribe_actions', 'converted', 0, xlabel='scribe_actions', ylabel='density')"
   ]
  },
  {
   "cell_type": "code",
   "execution_count": 36,
   "metadata": {},
   "outputs": [
    {
     "data": {
      "image/png": "[encoded data removed]",
      "text/plain": [
       "<Figure size 432x288 with 1 Axes>"
      ]
     },
     "metadata": {
      "needs_background": "light"
     },
     "output_type": "display_data"
    }
   ],
   "source": [
    "#drop this column\n",
    "make_hist(completed, 'game_stats_tutorial_complete_time', 'converted', 0, xlabel='scribe_actions', ylabel='density')"
   ]
  },
  {
   "cell_type": "code",
   "execution_count": 37,
   "metadata": {},
   "outputs": [],
   "source": [
    "drop_cols = ['local_time_join_hour', 'local_time_join_dow', 'device_mapped_s', 'device_manufacturer_s',\\\n",
    "             'device_mem_i', 'device_gmem_i', 'device_mem_grouping_i', 'device_gmem_grouping_i',\\\n",
    "            'device_gpu_s', 'device_os_s', 'device_model_s', 'game_stats_tutorial_complete_time']\n",
    "\n",
    "completed.drop(columns=drop_cols, inplace=True)"
   ]
  },
  {
   "cell_type": "markdown",
   "metadata": {},
   "source": [
    "We now convert the columns we kept to numeric values, normally by one-hot encoding. To ensure the data is not too wide, we reduce the number of categories in each column."
   ]
  },
  {
   "cell_type": "code",
   "execution_count": 38,
   "metadata": {},
   "outputs": [
    {
     "data": {
      "text/plain": [
       "geo_s\n",
       "CN    652368\n",
       "US    196398\n",
       "BR    108151\n",
       "IN     86058\n",
       "MX     84638\n",
       "RU     48570\n",
       "GB     40171\n",
       "TR     39810\n",
       "JP     32439\n",
       "IT     32254\n",
       "dtype: int64"
      ]
     },
     "execution_count": 38,
     "metadata": {},
     "output_type": "execute_result"
    }
   ],
   "source": [
    "completed.groupby('geo_s').size().sort_values(ascending=False).head(10)"
   ]
  },
  {
   "cell_type": "code",
   "execution_count": 39,
   "metadata": {},
   "outputs": [
    {
     "data": {
      "text/plain": [
       "<AxesSubplot:xlabel='region_s'>"
      ]
     },
     "execution_count": 39,
     "metadata": {},
     "output_type": "execute_result"
    },
    {
     "data": {
      "image/png": "[encoded data removed]",
      "text/plain": [
       "<Figure size 432x288 with 1 Axes>"
      ]
     },
     "metadata": {
      "needs_background": "light"
     },
     "output_type": "display_data"
    }
   ],
   "source": [
    "completed.groupby('region_s').size().plot(kind='bar')"
   ]
  },
  {
   "cell_type": "markdown",
   "metadata": {},
   "source": [
    "The difference between `region_s` and `geo_s` seems significant; however, we will collapse all but the top three entries in `geo_s` to identical values."
   ]
  },
  {
   "cell_type": "code",
   "execution_count": 40,
   "metadata": {},
   "outputs": [],
   "source": [
    "def geo_map(val):\n",
    "    if val in ['CN', 'US', 'BR']:\n",
    "        return val\n",
    "    else:\n",
    "        return 'Other'\n",
    "    \n",
    "completed['geo'] = completed['geo_s'].apply(geo_map)\n",
    "completed.drop(columns=['geo_s'], inplace=True)"
   ]
  },
  {
   "cell_type": "code",
   "execution_count": 41,
   "metadata": {},
   "outputs": [
    {
     "data": {
      "text/html": [
       "<div>\n",
       "<style scoped>\n",
       "    .dataframe tbody tr th:only-of-type {\n",
       "        vertical-align: middle;\n",
       "    }\n",
       "\n",
       "    .dataframe tbody tr th {\n",
       "        vertical-align: top;\n",
       "    }\n",
       "\n",
       "    .dataframe thead th {\n",
       "        text-align: right;\n",
       "    }\n",
       "</style>\n",
       "<table border=\"1\" class=\"dataframe\">\n",
       "  <thead>\n",
       "    <tr style=\"text-align: right;\">\n",
       "      <th></th>\n",
       "      <th>uid_s</th>\n",
       "      <th>region_s</th>\n",
       "      <th>total_spend</th>\n",
       "      <th>converted</th>\n",
       "      <th>logins</th>\n",
       "      <th>game_stats_xp</th>\n",
       "      <th>game_stats_xp1</th>\n",
       "      <th>game_stats_xp2</th>\n",
       "      <th>game_stats_xp3</th>\n",
       "      <th>redeemer_actions</th>\n",
       "      <th>scribe_actions</th>\n",
       "      <th>platform_s</th>\n",
       "      <th>device_numcpu_i</th>\n",
       "      <th>device_height_i</th>\n",
       "      <th>geo</th>\n",
       "    </tr>\n",
       "  </thead>\n",
       "  <tbody>\n",
       "    <tr>\n",
       "      <th>0</th>\n",
       "      <td>0</td>\n",
       "      <td>asia</td>\n",
       "      <td>0</td>\n",
       "      <td>0</td>\n",
       "      <td>7.0</td>\n",
       "      <td>1693.0</td>\n",
       "      <td>592.0</td>\n",
       "      <td>0.0</td>\n",
       "      <td>429.0</td>\n",
       "      <td>446.0</td>\n",
       "      <td>364.0</td>\n",
       "      <td>android</td>\n",
       "      <td>8.0</td>\n",
       "      <td>720.0</td>\n",
       "      <td>Other</td>\n",
       "    </tr>\n",
       "    <tr>\n",
       "      <th>1</th>\n",
       "      <td>1</td>\n",
       "      <td>americas</td>\n",
       "      <td>0</td>\n",
       "      <td>0</td>\n",
       "      <td>2.0</td>\n",
       "      <td>197.0</td>\n",
       "      <td>197.0</td>\n",
       "      <td>0.0</td>\n",
       "      <td>0.0</td>\n",
       "      <td>60.0</td>\n",
       "      <td>125.0</td>\n",
       "      <td>android</td>\n",
       "      <td>8.0</td>\n",
       "      <td>1080.0</td>\n",
       "      <td>Other</td>\n",
       "    </tr>\n",
       "    <tr>\n",
       "      <th>2</th>\n",
       "      <td>2</td>\n",
       "      <td>asia</td>\n",
       "      <td>0</td>\n",
       "      <td>0</td>\n",
       "      <td>2.0</td>\n",
       "      <td>313.0</td>\n",
       "      <td>313.0</td>\n",
       "      <td>0.0</td>\n",
       "      <td>0.0</td>\n",
       "      <td>89.0</td>\n",
       "      <td>129.0</td>\n",
       "      <td>android</td>\n",
       "      <td>8.0</td>\n",
       "      <td>1080.0</td>\n",
       "      <td>CN</td>\n",
       "    </tr>\n",
       "    <tr>\n",
       "      <th>3</th>\n",
       "      <td>3</td>\n",
       "      <td>asia</td>\n",
       "      <td>0</td>\n",
       "      <td>0</td>\n",
       "      <td>3.0</td>\n",
       "      <td>1319.0</td>\n",
       "      <td>1319.0</td>\n",
       "      <td>0.0</td>\n",
       "      <td>0.0</td>\n",
       "      <td>275.0</td>\n",
       "      <td>200.0</td>\n",
       "      <td>android</td>\n",
       "      <td>8.0</td>\n",
       "      <td>1080.0</td>\n",
       "      <td>CN</td>\n",
       "    </tr>\n",
       "    <tr>\n",
       "      <th>4</th>\n",
       "      <td>4</td>\n",
       "      <td>asia</td>\n",
       "      <td>0</td>\n",
       "      <td>0</td>\n",
       "      <td>4.0</td>\n",
       "      <td>148.0</td>\n",
       "      <td>148.0</td>\n",
       "      <td>0.0</td>\n",
       "      <td>0.0</td>\n",
       "      <td>58.0</td>\n",
       "      <td>138.0</td>\n",
       "      <td>android</td>\n",
       "      <td>8.0</td>\n",
       "      <td>720.0</td>\n",
       "      <td>Other</td>\n",
       "    </tr>\n",
       "    <tr>\n",
       "      <th>5</th>\n",
       "      <td>5</td>\n",
       "      <td>asia</td>\n",
       "      <td>0</td>\n",
       "      <td>0</td>\n",
       "      <td>4.0</td>\n",
       "      <td>879.0</td>\n",
       "      <td>312.0</td>\n",
       "      <td>0.0</td>\n",
       "      <td>0.0</td>\n",
       "      <td>209.0</td>\n",
       "      <td>186.0</td>\n",
       "      <td>android</td>\n",
       "      <td>8.0</td>\n",
       "      <td>720.0</td>\n",
       "      <td>Other</td>\n",
       "    </tr>\n",
       "    <tr>\n",
       "      <th>7</th>\n",
       "      <td>7</td>\n",
       "      <td>asia</td>\n",
       "      <td>0</td>\n",
       "      <td>0</td>\n",
       "      <td>2.0</td>\n",
       "      <td>313.0</td>\n",
       "      <td>313.0</td>\n",
       "      <td>0.0</td>\n",
       "      <td>0.0</td>\n",
       "      <td>87.0</td>\n",
       "      <td>128.0</td>\n",
       "      <td>android</td>\n",
       "      <td>8.0</td>\n",
       "      <td>720.0</td>\n",
       "      <td>CN</td>\n",
       "    </tr>\n",
       "    <tr>\n",
       "      <th>9</th>\n",
       "      <td>9</td>\n",
       "      <td>asia</td>\n",
       "      <td>0</td>\n",
       "      <td>0</td>\n",
       "      <td>3.0</td>\n",
       "      <td>193.0</td>\n",
       "      <td>80.0</td>\n",
       "      <td>0.0</td>\n",
       "      <td>0.0</td>\n",
       "      <td>60.0</td>\n",
       "      <td>133.0</td>\n",
       "      <td>android</td>\n",
       "      <td>8.0</td>\n",
       "      <td>720.0</td>\n",
       "      <td>Other</td>\n",
       "    </tr>\n",
       "    <tr>\n",
       "      <th>11</th>\n",
       "      <td>11</td>\n",
       "      <td>asia</td>\n",
       "      <td>0</td>\n",
       "      <td>0</td>\n",
       "      <td>2.0</td>\n",
       "      <td>314.0</td>\n",
       "      <td>314.0</td>\n",
       "      <td>0.0</td>\n",
       "      <td>0.0</td>\n",
       "      <td>99.0</td>\n",
       "      <td>128.0</td>\n",
       "      <td>android</td>\n",
       "      <td>8.0</td>\n",
       "      <td>720.0</td>\n",
       "      <td>CN</td>\n",
       "    </tr>\n",
       "    <tr>\n",
       "      <th>12</th>\n",
       "      <td>12</td>\n",
       "      <td>asia</td>\n",
       "      <td>0</td>\n",
       "      <td>0</td>\n",
       "      <td>2.0</td>\n",
       "      <td>80.0</td>\n",
       "      <td>80.0</td>\n",
       "      <td>0.0</td>\n",
       "      <td>0.0</td>\n",
       "      <td>52.0</td>\n",
       "      <td>126.0</td>\n",
       "      <td>android</td>\n",
       "      <td>8.0</td>\n",
       "      <td>1080.0</td>\n",
       "      <td>CN</td>\n",
       "    </tr>\n",
       "  </tbody>\n",
       "</table>\n",
       "</div>"
      ],
      "text/plain": [
       "    uid_s  region_s  total_spend  converted  logins  game_stats_xp  \\\n",
       "0       0      asia            0          0     7.0         1693.0   \n",
       "1       1  americas            0          0     2.0          197.0   \n",
       "2       2      asia            0          0     2.0          313.0   \n",
       "3       3      asia            0          0     3.0         1319.0   \n",
       "4       4      asia            0          0     4.0          148.0   \n",
       "5       5      asia            0          0     4.0          879.0   \n",
       "7       7      asia            0          0     2.0          313.0   \n",
       "9       9      asia            0          0     3.0          193.0   \n",
       "11     11      asia            0          0     2.0          314.0   \n",
       "12     12      asia            0          0     2.0           80.0   \n",
       "\n",
       "    game_stats_xp1  game_stats_xp2  game_stats_xp3  redeemer_actions  \\\n",
       "0            592.0             0.0           429.0             446.0   \n",
       "1            197.0             0.0             0.0              60.0   \n",
       "2            313.0             0.0             0.0              89.0   \n",
       "3           1319.0             0.0             0.0             275.0   \n",
       "4            148.0             0.0             0.0              58.0   \n",
       "5            312.0             0.0             0.0             209.0   \n",
       "7            313.0             0.0             0.0              87.0   \n",
       "9             80.0             0.0             0.0              60.0   \n",
       "11           314.0             0.0             0.0              99.0   \n",
       "12            80.0             0.0             0.0              52.0   \n",
       "\n",
       "    scribe_actions platform_s  device_numcpu_i  device_height_i    geo  \n",
       "0            364.0    android              8.0            720.0  Other  \n",
       "1            125.0    android              8.0           1080.0  Other  \n",
       "2            129.0    android              8.0           1080.0     CN  \n",
       "3            200.0    android              8.0           1080.0     CN  \n",
       "4            138.0    android              8.0            720.0  Other  \n",
       "5            186.0    android              8.0            720.0  Other  \n",
       "7            128.0    android              8.0            720.0     CN  \n",
       "9            133.0    android              8.0            720.0  Other  \n",
       "11           128.0    android              8.0            720.0     CN  \n",
       "12           126.0    android              8.0           1080.0     CN  "
      ]
     },
     "execution_count": 41,
     "metadata": {},
     "output_type": "execute_result"
    }
   ],
   "source": [
    "completed.head(10)"
   ]
  },
  {
   "cell_type": "markdown",
   "metadata": {},
   "source": [
    "Now, we just need to one-hot encode the non-numeric variables. "
   ]
  },
  {
   "cell_type": "code",
   "execution_count": 42,
   "metadata": {
    "scrolled": true
   },
   "outputs": [
    {
     "data": {
      "text/html": [
       "<div>\n",
       "<style scoped>\n",
       "    .dataframe tbody tr th:only-of-type {\n",
       "        vertical-align: middle;\n",
       "    }\n",
       "\n",
       "    .dataframe tbody tr th {\n",
       "        vertical-align: top;\n",
       "    }\n",
       "\n",
       "    .dataframe thead th {\n",
       "        text-align: right;\n",
       "    }\n",
       "</style>\n",
       "<table border=\"1\" class=\"dataframe\">\n",
       "  <thead>\n",
       "    <tr style=\"text-align: right;\">\n",
       "      <th></th>\n",
       "      <th>uid_s</th>\n",
       "      <th>total_spend</th>\n",
       "      <th>converted</th>\n",
       "      <th>logins</th>\n",
       "      <th>game_stats_xp</th>\n",
       "      <th>game_stats_xp1</th>\n",
       "      <th>game_stats_xp2</th>\n",
       "      <th>game_stats_xp3</th>\n",
       "      <th>redeemer_actions</th>\n",
       "      <th>scribe_actions</th>\n",
       "      <th>...</th>\n",
       "      <th>iphone</th>\n",
       "      <th>africa</th>\n",
       "      <th>americas</th>\n",
       "      <th>asia</th>\n",
       "      <th>europe</th>\n",
       "      <th>oceania</th>\n",
       "      <th>BR</th>\n",
       "      <th>CN</th>\n",
       "      <th>Other</th>\n",
       "      <th>US</th>\n",
       "    </tr>\n",
       "  </thead>\n",
       "  <tbody>\n",
       "    <tr>\n",
       "      <th>0</th>\n",
       "      <td>0</td>\n",
       "      <td>0</td>\n",
       "      <td>0</td>\n",
       "      <td>7.0</td>\n",
       "      <td>1693.0</td>\n",
       "      <td>592.0</td>\n",
       "      <td>0.0</td>\n",
       "      <td>429.0</td>\n",
       "      <td>446.0</td>\n",
       "      <td>364.0</td>\n",
       "      <td>...</td>\n",
       "      <td>0</td>\n",
       "      <td>0</td>\n",
       "      <td>0</td>\n",
       "      <td>1</td>\n",
       "      <td>0</td>\n",
       "      <td>0</td>\n",
       "      <td>0</td>\n",
       "      <td>0</td>\n",
       "      <td>1</td>\n",
       "      <td>0</td>\n",
       "    </tr>\n",
       "    <tr>\n",
       "      <th>1</th>\n",
       "      <td>1</td>\n",
       "      <td>0</td>\n",
       "      <td>0</td>\n",
       "      <td>2.0</td>\n",
       "      <td>197.0</td>\n",
       "      <td>197.0</td>\n",
       "      <td>0.0</td>\n",
       "      <td>0.0</td>\n",
       "      <td>60.0</td>\n",
       "      <td>125.0</td>\n",
       "      <td>...</td>\n",
       "      <td>0</td>\n",
       "      <td>0</td>\n",
       "      <td>1</td>\n",
       "      <td>0</td>\n",
       "      <td>0</td>\n",
       "      <td>0</td>\n",
       "      <td>0</td>\n",
       "      <td>0</td>\n",
       "      <td>1</td>\n",
       "      <td>0</td>\n",
       "    </tr>\n",
       "    <tr>\n",
       "      <th>2</th>\n",
       "      <td>2</td>\n",
       "      <td>0</td>\n",
       "      <td>0</td>\n",
       "      <td>2.0</td>\n",
       "      <td>313.0</td>\n",
       "      <td>313.0</td>\n",
       "      <td>0.0</td>\n",
       "      <td>0.0</td>\n",
       "      <td>89.0</td>\n",
       "      <td>129.0</td>\n",
       "      <td>...</td>\n",
       "      <td>0</td>\n",
       "      <td>0</td>\n",
       "      <td>0</td>\n",
       "      <td>1</td>\n",
       "      <td>0</td>\n",
       "      <td>0</td>\n",
       "      <td>0</td>\n",
       "      <td>1</td>\n",
       "      <td>0</td>\n",
       "      <td>0</td>\n",
       "    </tr>\n",
       "    <tr>\n",
       "      <th>3</th>\n",
       "      <td>3</td>\n",
       "      <td>0</td>\n",
       "      <td>0</td>\n",
       "      <td>3.0</td>\n",
       "      <td>1319.0</td>\n",
       "      <td>1319.0</td>\n",
       "      <td>0.0</td>\n",
       "      <td>0.0</td>\n",
       "      <td>275.0</td>\n",
       "      <td>200.0</td>\n",
       "      <td>...</td>\n",
       "      <td>0</td>\n",
       "      <td>0</td>\n",
       "      <td>0</td>\n",
       "      <td>1</td>\n",
       "      <td>0</td>\n",
       "      <td>0</td>\n",
       "      <td>0</td>\n",
       "      <td>1</td>\n",
       "      <td>0</td>\n",
       "      <td>0</td>\n",
       "    </tr>\n",
       "    <tr>\n",
       "      <th>4</th>\n",
       "      <td>4</td>\n",
       "      <td>0</td>\n",
       "      <td>0</td>\n",
       "      <td>4.0</td>\n",
       "      <td>148.0</td>\n",
       "      <td>148.0</td>\n",
       "      <td>0.0</td>\n",
       "      <td>0.0</td>\n",
       "      <td>58.0</td>\n",
       "      <td>138.0</td>\n",
       "      <td>...</td>\n",
       "      <td>0</td>\n",
       "      <td>0</td>\n",
       "      <td>0</td>\n",
       "      <td>1</td>\n",
       "      <td>0</td>\n",
       "      <td>0</td>\n",
       "      <td>0</td>\n",
       "      <td>0</td>\n",
       "      <td>1</td>\n",
       "      <td>0</td>\n",
       "    </tr>\n",
       "    <tr>\n",
       "      <th>5</th>\n",
       "      <td>5</td>\n",
       "      <td>0</td>\n",
       "      <td>0</td>\n",
       "      <td>4.0</td>\n",
       "      <td>879.0</td>\n",
       "      <td>312.0</td>\n",
       "      <td>0.0</td>\n",
       "      <td>0.0</td>\n",
       "      <td>209.0</td>\n",
       "      <td>186.0</td>\n",
       "      <td>...</td>\n",
       "      <td>0</td>\n",
       "      <td>0</td>\n",
       "      <td>0</td>\n",
       "      <td>1</td>\n",
       "      <td>0</td>\n",
       "      <td>0</td>\n",
       "      <td>0</td>\n",
       "      <td>0</td>\n",
       "      <td>1</td>\n",
       "      <td>0</td>\n",
       "    </tr>\n",
       "    <tr>\n",
       "      <th>7</th>\n",
       "      <td>7</td>\n",
       "      <td>0</td>\n",
       "      <td>0</td>\n",
       "      <td>2.0</td>\n",
       "      <td>313.0</td>\n",
       "      <td>313.0</td>\n",
       "      <td>0.0</td>\n",
       "      <td>0.0</td>\n",
       "      <td>87.0</td>\n",
       "      <td>128.0</td>\n",
       "      <td>...</td>\n",
       "      <td>0</td>\n",
       "      <td>0</td>\n",
       "      <td>0</td>\n",
       "      <td>1</td>\n",
       "      <td>0</td>\n",
       "      <td>0</td>\n",
       "      <td>0</td>\n",
       "      <td>1</td>\n",
       "      <td>0</td>\n",
       "      <td>0</td>\n",
       "    </tr>\n",
       "    <tr>\n",
       "      <th>9</th>\n",
       "      <td>9</td>\n",
       "      <td>0</td>\n",
       "      <td>0</td>\n",
       "      <td>3.0</td>\n",
       "      <td>193.0</td>\n",
       "      <td>80.0</td>\n",
       "      <td>0.0</td>\n",
       "      <td>0.0</td>\n",
       "      <td>60.0</td>\n",
       "      <td>133.0</td>\n",
       "      <td>...</td>\n",
       "      <td>0</td>\n",
       "      <td>0</td>\n",
       "      <td>0</td>\n",
       "      <td>1</td>\n",
       "      <td>0</td>\n",
       "      <td>0</td>\n",
       "      <td>0</td>\n",
       "      <td>0</td>\n",
       "      <td>1</td>\n",
       "      <td>0</td>\n",
       "    </tr>\n",
       "    <tr>\n",
       "      <th>11</th>\n",
       "      <td>11</td>\n",
       "      <td>0</td>\n",
       "      <td>0</td>\n",
       "      <td>2.0</td>\n",
       "      <td>314.0</td>\n",
       "      <td>314.0</td>\n",
       "      <td>0.0</td>\n",
       "      <td>0.0</td>\n",
       "      <td>99.0</td>\n",
       "      <td>128.0</td>\n",
       "      <td>...</td>\n",
       "      <td>0</td>\n",
       "      <td>0</td>\n",
       "      <td>0</td>\n",
       "      <td>1</td>\n",
       "      <td>0</td>\n",
       "      <td>0</td>\n",
       "      <td>0</td>\n",
       "      <td>1</td>\n",
       "      <td>0</td>\n",
       "      <td>0</td>\n",
       "    </tr>\n",
       "    <tr>\n",
       "      <th>12</th>\n",
       "      <td>12</td>\n",
       "      <td>0</td>\n",
       "      <td>0</td>\n",
       "      <td>2.0</td>\n",
       "      <td>80.0</td>\n",
       "      <td>80.0</td>\n",
       "      <td>0.0</td>\n",
       "      <td>0.0</td>\n",
       "      <td>52.0</td>\n",
       "      <td>126.0</td>\n",
       "      <td>...</td>\n",
       "      <td>0</td>\n",
       "      <td>0</td>\n",
       "      <td>0</td>\n",
       "      <td>1</td>\n",
       "      <td>0</td>\n",
       "      <td>0</td>\n",
       "      <td>0</td>\n",
       "      <td>1</td>\n",
       "      <td>0</td>\n",
       "      <td>0</td>\n",
       "    </tr>\n",
       "    <tr>\n",
       "      <th>13</th>\n",
       "      <td>13</td>\n",
       "      <td>70</td>\n",
       "      <td>1</td>\n",
       "      <td>3.0</td>\n",
       "      <td>1023.0</td>\n",
       "      <td>306.0</td>\n",
       "      <td>0.0</td>\n",
       "      <td>0.0</td>\n",
       "      <td>254.0</td>\n",
       "      <td>228.0</td>\n",
       "      <td>...</td>\n",
       "      <td>0</td>\n",
       "      <td>0</td>\n",
       "      <td>0</td>\n",
       "      <td>1</td>\n",
       "      <td>0</td>\n",
       "      <td>0</td>\n",
       "      <td>0</td>\n",
       "      <td>1</td>\n",
       "      <td>0</td>\n",
       "      <td>0</td>\n",
       "    </tr>\n",
       "    <tr>\n",
       "      <th>14</th>\n",
       "      <td>14</td>\n",
       "      <td>0</td>\n",
       "      <td>0</td>\n",
       "      <td>2.0</td>\n",
       "      <td>136.0</td>\n",
       "      <td>136.0</td>\n",
       "      <td>0.0</td>\n",
       "      <td>0.0</td>\n",
       "      <td>51.0</td>\n",
       "      <td>122.0</td>\n",
       "      <td>...</td>\n",
       "      <td>0</td>\n",
       "      <td>0</td>\n",
       "      <td>0</td>\n",
       "      <td>1</td>\n",
       "      <td>0</td>\n",
       "      <td>0</td>\n",
       "      <td>0</td>\n",
       "      <td>0</td>\n",
       "      <td>1</td>\n",
       "      <td>0</td>\n",
       "    </tr>\n",
       "    <tr>\n",
       "      <th>17</th>\n",
       "      <td>17</td>\n",
       "      <td>0</td>\n",
       "      <td>0</td>\n",
       "      <td>2.0</td>\n",
       "      <td>80.0</td>\n",
       "      <td>80.0</td>\n",
       "      <td>0.0</td>\n",
       "      <td>0.0</td>\n",
       "      <td>46.0</td>\n",
       "      <td>122.0</td>\n",
       "      <td>...</td>\n",
       "      <td>0</td>\n",
       "      <td>0</td>\n",
       "      <td>0</td>\n",
       "      <td>1</td>\n",
       "      <td>0</td>\n",
       "      <td>0</td>\n",
       "      <td>0</td>\n",
       "      <td>1</td>\n",
       "      <td>0</td>\n",
       "      <td>0</td>\n",
       "    </tr>\n",
       "    <tr>\n",
       "      <th>18</th>\n",
       "      <td>18</td>\n",
       "      <td>0</td>\n",
       "      <td>0</td>\n",
       "      <td>2.0</td>\n",
       "      <td>141.0</td>\n",
       "      <td>141.0</td>\n",
       "      <td>0.0</td>\n",
       "      <td>0.0</td>\n",
       "      <td>55.0</td>\n",
       "      <td>123.0</td>\n",
       "      <td>...</td>\n",
       "      <td>1</td>\n",
       "      <td>0</td>\n",
       "      <td>0</td>\n",
       "      <td>1</td>\n",
       "      <td>0</td>\n",
       "      <td>0</td>\n",
       "      <td>0</td>\n",
       "      <td>1</td>\n",
       "      <td>0</td>\n",
       "      <td>0</td>\n",
       "    </tr>\n",
       "    <tr>\n",
       "      <th>19</th>\n",
       "      <td>19</td>\n",
       "      <td>0</td>\n",
       "      <td>0</td>\n",
       "      <td>10.0</td>\n",
       "      <td>5765.0</td>\n",
       "      <td>0.0</td>\n",
       "      <td>0.0</td>\n",
       "      <td>0.0</td>\n",
       "      <td>919.0</td>\n",
       "      <td>460.0</td>\n",
       "      <td>...</td>\n",
       "      <td>0</td>\n",
       "      <td>0</td>\n",
       "      <td>0</td>\n",
       "      <td>1</td>\n",
       "      <td>0</td>\n",
       "      <td>0</td>\n",
       "      <td>0</td>\n",
       "      <td>1</td>\n",
       "      <td>0</td>\n",
       "      <td>0</td>\n",
       "    </tr>\n",
       "  </tbody>\n",
       "</table>\n",
       "<p>15 rows × 23 columns</p>\n",
       "</div>"
      ],
      "text/plain": [
       "    uid_s  total_spend  converted  logins  game_stats_xp  game_stats_xp1  \\\n",
       "0       0            0          0     7.0         1693.0           592.0   \n",
       "1       1            0          0     2.0          197.0           197.0   \n",
       "2       2            0          0     2.0          313.0           313.0   \n",
       "3       3            0          0     3.0         1319.0          1319.0   \n",
       "4       4            0          0     4.0          148.0           148.0   \n",
       "5       5            0          0     4.0          879.0           312.0   \n",
       "7       7            0          0     2.0          313.0           313.0   \n",
       "9       9            0          0     3.0          193.0            80.0   \n",
       "11     11            0          0     2.0          314.0           314.0   \n",
       "12     12            0          0     2.0           80.0            80.0   \n",
       "13     13           70          1     3.0         1023.0           306.0   \n",
       "14     14            0          0     2.0          136.0           136.0   \n",
       "17     17            0          0     2.0           80.0            80.0   \n",
       "18     18            0          0     2.0          141.0           141.0   \n",
       "19     19            0          0    10.0         5765.0             0.0   \n",
       "\n",
       "    game_stats_xp2  game_stats_xp3  redeemer_actions  scribe_actions  ...  \\\n",
       "0              0.0           429.0             446.0           364.0  ...   \n",
       "1              0.0             0.0              60.0           125.0  ...   \n",
       "2              0.0             0.0              89.0           129.0  ...   \n",
       "3              0.0             0.0             275.0           200.0  ...   \n",
       "4              0.0             0.0              58.0           138.0  ...   \n",
       "5              0.0             0.0             209.0           186.0  ...   \n",
       "7              0.0             0.0              87.0           128.0  ...   \n",
       "9              0.0             0.0              60.0           133.0  ...   \n",
       "11             0.0             0.0              99.0           128.0  ...   \n",
       "12             0.0             0.0              52.0           126.0  ...   \n",
       "13             0.0             0.0             254.0           228.0  ...   \n",
       "14             0.0             0.0              51.0           122.0  ...   \n",
       "17             0.0             0.0              46.0           122.0  ...   \n",
       "18             0.0             0.0              55.0           123.0  ...   \n",
       "19             0.0             0.0             919.0           460.0  ...   \n",
       "\n",
       "    iphone  africa  americas  asia  europe  oceania  BR  CN  Other  US  \n",
       "0        0       0         0     1       0        0   0   0      1   0  \n",
       "1        0       0         1     0       0        0   0   0      1   0  \n",
       "2        0       0         0     1       0        0   0   1      0   0  \n",
       "3        0       0         0     1       0        0   0   1      0   0  \n",
       "4        0       0         0     1       0        0   0   0      1   0  \n",
       "5        0       0         0     1       0        0   0   0      1   0  \n",
       "7        0       0         0     1       0        0   0   1      0   0  \n",
       "9        0       0         0     1       0        0   0   0      1   0  \n",
       "11       0       0         0     1       0        0   0   1      0   0  \n",
       "12       0       0         0     1       0        0   0   1      0   0  \n",
       "13       0       0         0     1       0        0   0   1      0   0  \n",
       "14       0       0         0     1       0        0   0   0      1   0  \n",
       "17       0       0         0     1       0        0   0   1      0   0  \n",
       "18       1       0         0     1       0        0   0   1      0   0  \n",
       "19       0       0         0     1       0        0   0   1      0   0  \n",
       "\n",
       "[15 rows x 23 columns]"
      ]
     },
     "execution_count": 42,
     "metadata": {},
     "output_type": "execute_result"
    }
   ],
   "source": [
    "platform = pd.get_dummies(completed['platform_s'])\n",
    "region = pd.get_dummies(completed['region_s'])\n",
    "geo = pd.get_dummies(completed['geo'])\n",
    "\n",
    "completed.drop(columns=['platform_s', 'region_s', 'geo'], inplace=True)\n",
    "completed = pd.concat([completed, platform, region, geo], axis=1)\n",
    "completed.head(15)"
   ]
  },
  {
   "cell_type": "markdown",
   "metadata": {},
   "source": [
    "## Modelling Phase\n",
    "\n",
    "With the exploratory data analysis complete above, we begin modelling. Here, our goal is to determine those users who are likely to spend money in the game after completing the tutorial. Since the question is specific to those players who spend money in the game after finishing the tutorial, we use the dataframe with only those players who have completed the tutorial.\n",
    "\n",
    "Based on the figure of converted versus non-converted users, we have an extremely imbalanced dataset. This is typical of conversion problems, especially in the mobile game domain. We begin by splitting our datasets into train, validation, and test sets, then we discuss how to proceed with the training set. Since we have a decent amount of data, we use 35\\% as testing and validation."
   ]
  },
  {
   "cell_type": "code",
   "execution_count": 43,
   "metadata": {},
   "outputs": [],
   "source": [
    "#drop total spend column and user id\n",
    "completed.drop(columns=['total_spend', 'uid_s'], inplace=True)\n",
    "\n",
    "df_train, df_mid = train_test_split(completed, test_size=0.35, random_state=777)"
   ]
  },
  {
   "cell_type": "code",
   "execution_count": 44,
   "metadata": {},
   "outputs": [],
   "source": [
    "df_val, df_test = train_test_split(df_mid, test_size=0.5, random_state=777)"
   ]
  },
  {
   "cell_type": "code",
   "execution_count": 45,
   "metadata": {},
   "outputs": [],
   "source": [
    "def column_separator(df, col='converted'):\n",
    "    y = df[col]\n",
    "    X = df.drop(columns=[col])\n",
    "    return X, y\n",
    "\n",
    "X_val, y_val = column_separator(df_val)\n",
    "X_test, y_test = column_separator(df_test)"
   ]
  },
  {
   "cell_type": "markdown",
   "metadata": {},
   "source": [
    "Next, we normalize the data. Because we will test a neural network, this step will ensure better results. "
   ]
  },
  {
   "cell_type": "code",
   "execution_count": 46,
   "metadata": {},
   "outputs": [],
   "source": [
    "scaler = MinMaxScaler()\n",
    "df_cols = df_train.columns\n",
    "\n",
    "#learn the scaler on training data\n",
    "df_train = scaler.fit_transform(df_train)\n",
    "\n",
    "#change it back to dataframe for slicing, this is a bit wonky,\n",
    "#but need to downsample for SMOTE and this is preferring clarity\n",
    "df_train = pd.DataFrame(df_train, columns=df_cols)"
   ]
  },
  {
   "cell_type": "markdown",
   "metadata": {},
   "source": [
    "We still have the issue of an imbalanced dataset. Downsampling or optimizing a metric like F1 score is an option; however, we will use a combination of downsampling and oversampling, because the minority class (converted users) is so small (and this is best practice with the oversampling technique we use). To do so, we will use SMOTE, since it is available in tested libraries. Given more time, LoRAS seems to perform better than SMOTE, but since this is a technical assessment, I won't be implementing LoRAS. "
   ]
  },
  {
   "cell_type": "code",
   "execution_count": 47,
   "metadata": {},
   "outputs": [
    {
     "name": "stdout",
     "output_type": "stream",
     "text": [
      "0.5\n"
     ]
    }
   ],
   "source": [
    "smote = imblearn.over_sampling.SMOTE()\n",
    "\n",
    "#first downsample the train set\n",
    "df_downsampled = df_train[df_train['converted'] == 0].sample(n=round(1.5*df_train['converted'].sum()))\n",
    "#can use this for more class samples\n",
    "df_other = df_train[(~df_train.index.isin(df_downsampled.index)) & (df_train['converted'] == 0)]\n",
    "df_train_downsampled = pd.concat([df_downsampled, df_train[df_train['converted'] == 1]], axis=0)\n",
    "\n",
    "#now split into X, y and upsample minority class\n",
    "X_train, y_train = column_separator(df_train_downsampled)\n",
    "X_train, y_train = smote.fit_resample(X_train, y_train)\n",
    "\n",
    "#add some from majority class back\n",
    "#other_samples = df_other.sample(n=round(0.33*X_train.shape[0]))\n",
    "#X_other, y_other = column_separator(other_samples)\n",
    "#X_train, y_train = pd.concat([X_train, X_other], axis=0), pd.concat([y_train, y_other], axis=0)\n",
    "\n",
    "#ensure upsampling worked, should print out 0.376 if adding some from majority back\n",
    "#otherwise should print out 0.5\n",
    "print(y_train.sum()/y_train.shape[0])"
   ]
  },
  {
   "cell_type": "markdown",
   "metadata": {},
   "source": [
    "Next, we test two models on the data. First, an XGBoost model; and second, a basic neural network."
   ]
  },
  {
   "cell_type": "code",
   "execution_count": 48,
   "metadata": {},
   "outputs": [],
   "source": [
    "clf1 = xgb.XGBClassifier()\n",
    "\n",
    "clf1.fit(X_train, y_train)\n",
    "\n",
    "pred_val = clf1.predict(X_val)"
   ]
  },
  {
   "cell_type": "code",
   "execution_count": 49,
   "metadata": {},
   "outputs": [
    {
     "name": "stdout",
     "output_type": "stream",
     "text": [
      "              precision    recall  f1-score   support\n",
      "\n",
      "           0       0.98      0.01      0.01    301191\n",
      "           1       0.02      0.99      0.03      5340\n",
      "\n",
      "    accuracy                           0.02    306531\n",
      "   macro avg       0.50      0.50      0.02    306531\n",
      "weighted avg       0.97      0.02      0.01    306531\n",
      "\n",
      "[[  1883 299308]\n",
      " [    33   5307]]\n"
     ]
    }
   ],
   "source": [
    "print(classification_report(y_val, pred_val))\n",
    "print(confusion_matrix(y_val, pred_val))"
   ]
  },
  {
   "cell_type": "markdown",
   "metadata": {},
   "source": [
    "It is very likely these results could be improved by hyperparameter tuning, but since it is a somewhat expensive operation, we instead try creating a neural network."
   ]
  },
  {
   "cell_type": "code",
   "execution_count": 50,
   "metadata": {},
   "outputs": [],
   "source": [
    "def const(x):\n",
    "    return x\n",
    "\n",
    "class BasicBlock(nn.Module):\n",
    "    def __init__(self, in_features, out_features, p=0.3, batchnorm=True, activation=nn.LeakyReLU):\n",
    "        super(BasicBlock, self).__init__()\n",
    "        self.layer1 = nn.Linear(in_features, out_features)\n",
    "        self.layer2 = nn.BatchNorm1d(out_features) if batchnorm else const\n",
    "        self.layer3 = activation()\n",
    "        self.layer4 = nn.Dropout(p=p)\n",
    "\n",
    "    def forward(self, inputs):\n",
    "        return self.layer4(self.layer3(self.layer2(self.layer1(inputs))))\n",
    "\n",
    "class Classifier(nn.Module):\n",
    "    def __init__(self, input_shape, n_layers, outs_ins):\n",
    "        super(Classifier, self).__init__()\n",
    "        if len(outs_ins) != n_layers - 1:\n",
    "            raise ValueError(f\"Layer output/input features must be one less than n_layers.\")\n",
    "        self.module_list = nn.ModuleList()\n",
    "        for layer in range(n_layers):\n",
    "            if layer == 0:\n",
    "                #first layer\n",
    "                self.module_list.append(BasicBlock(input_shape, outs_ins[0]))\n",
    "            elif layer != n_layers - 1:\n",
    "                self.module_list.append(BasicBlock(outs_ins[layer - 1], outs_ins[layer]))\n",
    "            else:\n",
    "                #final layer\n",
    "                self.module_list.append(BasicBlock(outs_ins[layer-1], 1, p=0, activation=nn.Sigmoid))\n",
    "\n",
    "    def forward(self, inputs):\n",
    "        for layer in self.module_list:\n",
    "            inputs = layer(inputs)\n",
    "        return inputs"
   ]
  },
  {
   "cell_type": "code",
   "execution_count": 51,
   "metadata": {},
   "outputs": [],
   "source": [
    "#Create datasets for our data\n",
    "train_data = torch.utils.data.TensorDataset(torch.FloatTensor(X_train.to_numpy()), torch.unsqueeze(torch.FloatTensor(y_train.to_numpy()), -1))\n",
    "val_data = torch.utils.data.TensorDataset(torch.FloatTensor(X_val.to_numpy()), torch.unsqueeze(torch.FloatTensor(y_val.to_numpy()), -1))\n",
    "test_data = torch.utils.data.TensorDataset(torch.FloatTensor(X_test.to_numpy()), torch.unsqueeze(torch.FloatTensor(y_test.to_numpy()), -1))"
   ]
  },
  {
   "cell_type": "code",
   "execution_count": 52,
   "metadata": {},
   "outputs": [],
   "source": [
    "#Create dataloaders\n",
    "#tunable parameter batch size\n",
    "batch_size = 64\n",
    "\n",
    "train_dataloader = torch.utils.data.DataLoader(train_data, batch_size=batch_size, shuffle=True)\n",
    "val_dataloader = torch.utils.data.DataLoader(val_data, batch_size=batch_size, shuffle=True)\n",
    "test_dataloader = torch.utils.data.DataLoader(test_data, batch_size=batch_size, shuffle=True)"
   ]
  },
  {
   "cell_type": "code",
   "execution_count": 53,
   "metadata": {},
   "outputs": [
    {
     "name": "stdout",
     "output_type": "stream",
     "text": [
      "[1,   250] loss: 0.6498166\n",
      "[1,   500] loss: 0.6021667\n",
      "[1,   750] loss: 0.5861290\n",
      "[2,   250] loss: 0.5672829\n",
      "[2,   500] loss: 0.5628021\n",
      "[2,   750] loss: 0.5573879\n",
      "[3,   250] loss: 0.5509206\n",
      "[3,   500] loss: 0.5494019\n",
      "[3,   750] loss: 0.5421108\n",
      "[4,   250] loss: 0.5389126\n",
      "[4,   500] loss: 0.5321643\n",
      "[4,   750] loss: 0.5378090\n",
      "[5,   250] loss: 0.5322535\n",
      "[5,   500] loss: 0.5266893\n",
      "[5,   750] loss: 0.5278003\n",
      "[6,   250] loss: 0.5259079\n",
      "[6,   500] loss: 0.5279832\n",
      "[6,   750] loss: 0.5248702\n",
      "[7,   250] loss: 0.5181286\n",
      "[7,   500] loss: 0.5235438\n",
      "[7,   750] loss: 0.5225469\n",
      "[8,   250] loss: 0.5276947\n",
      "[8,   500] loss: 0.5151928\n",
      "[8,   750] loss: 0.5169601\n",
      "[9,   250] loss: 0.5212060\n",
      "[9,   500] loss: 0.5112346\n",
      "[9,   750] loss: 0.5148877\n",
      "[10,   250] loss: 0.5148120\n",
      "[10,   500] loss: 0.5085534\n",
      "[10,   750] loss: 0.5152024\n",
      "[11,   250] loss: 0.5137129\n",
      "[11,   500] loss: 0.5067357\n",
      "[11,   750] loss: 0.5136320\n",
      "[12,   250] loss: 0.5068404\n",
      "[12,   500] loss: 0.5111359\n",
      "[12,   750] loss: 0.5185324\n",
      "[13,   250] loss: 0.5079098\n",
      "[13,   500] loss: 0.5106214\n",
      "[13,   750] loss: 0.5064025\n",
      "[14,   250] loss: 0.5129083\n",
      "[14,   500] loss: 0.5075771\n",
      "[14,   750] loss: 0.5035197\n",
      "[15,   250] loss: 0.5090258\n",
      "[15,   500] loss: 0.5055802\n",
      "[15,   750] loss: 0.5050718\n",
      "[16,   250] loss: 0.4994298\n",
      "[16,   500] loss: 0.5102668\n",
      "[16,   750] loss: 0.5043104\n",
      "[17,   250] loss: 0.5066613\n",
      "[17,   500] loss: 0.5121814\n",
      "[17,   750] loss: 0.5016335\n",
      "[18,   250] loss: 0.5047990\n",
      "[18,   500] loss: 0.5018426\n",
      "[18,   750] loss: 0.5065897\n",
      "[19,   250] loss: 0.5027984\n",
      "[19,   500] loss: 0.5071670\n",
      "[19,   750] loss: 0.5043296\n",
      "[20,   250] loss: 0.5020052\n",
      "[20,   500] loss: 0.5052260\n",
      "[20,   750] loss: 0.5025211\n",
      "[21,   250] loss: 0.5011277\n",
      "[21,   500] loss: 0.5033715\n",
      "[21,   750] loss: 0.5034307\n",
      "[22,   250] loss: 0.5071501\n",
      "[22,   500] loss: 0.4968728\n",
      "[22,   750] loss: 0.5022778\n",
      "[23,   250] loss: 0.4956537\n",
      "[23,   500] loss: 0.5083590\n",
      "[23,   750] loss: 0.5020338\n",
      "[24,   250] loss: 0.4991786\n",
      "[24,   500] loss: 0.4996882\n",
      "[24,   750] loss: 0.4985561\n",
      "[25,   250] loss: 0.5005939\n",
      "[25,   500] loss: 0.5068130\n",
      "[25,   750] loss: 0.5009840\n",
      "Model accuracy: 40.6807\n"
     ]
    },
    {
     "data": {
      "text/plain": [
       "[<matplotlib.lines.Line2D at 0x21fd8632f08>]"
      ]
     },
     "execution_count": 53,
     "metadata": {},
     "output_type": "execute_result"
    },
    {
     "data": {
      "image/png": "[encoded data removed]",
      "text/plain": [
       "<Figure size 432x288 with 1 Axes>"
      ]
     },
     "metadata": {
      "needs_background": "light"
     },
     "output_type": "display_data"
    }
   ],
   "source": [
    "losses = []\n",
    "\n",
    "#more hyperparameters\n",
    "criterion = nn.BCELoss()\n",
    "epochs = 25\n",
    "lr = 1e-4\n",
    "weight_decay=1e-4\n",
    "\n",
    "clf = Classifier(20, 5, [128, 256, 512, 512])\n",
    "optimizer = torch.optim.Adam(clf.parameters(), lr=lr, weight_decay=weight_decay)\n",
    "\n",
    "###################\n",
    "## TRAINING LOOP ##\n",
    "###################\n",
    "clf.train()\n",
    "for epoch in range(epochs):\n",
    "    running_loss = 0.\n",
    "    for idx, data in enumerate(train_dataloader, 0):\n",
    "        inputs, labels = data\n",
    "        clf.zero_grad()\n",
    "        outputs = clf(inputs)\n",
    "        loss = criterion(outputs, labels)\n",
    "        loss.backward()\n",
    "        optimizer.step()\n",
    "        running_loss += loss.item()\n",
    "        if idx % 250 == 249:\n",
    "            print('[%d, %5d] loss: %.7f' %\n",
    "                    (epoch + 1, idx + 1, running_loss/249))\n",
    "            losses.append(running_loss/249)\n",
    "            running_loss = 0.0\n",
    "\n",
    "########################\n",
    "## VALIDATION RESULTS ##\n",
    "########################\n",
    "correct = 0\n",
    "total = 0\n",
    "clf.eval()\n",
    "with torch.no_grad():\n",
    "    for data in val_dataloader:\n",
    "        inputs, labels = data\n",
    "        labels = torch.squeeze(labels)\n",
    "        outputs = clf(inputs)\n",
    "        predicted = torch.squeeze((outputs > .5).float())\n",
    "        total += labels.size(0)\n",
    "        correct += (predicted == labels).sum().item()\n",
    "\n",
    "print('Model accuracy: %.4f'  %(100*correct/total))\n",
    "plt.plot(losses)"
   ]
  },
  {
   "cell_type": "markdown",
   "metadata": {},
   "source": [
    "Given the much better performance of the neural network on the validation set than XGBoost model, we use it as the proposed solution to the problem. Finally, we give the results of the model on the test set."
   ]
  },
  {
   "cell_type": "code",
   "execution_count": 54,
   "metadata": {},
   "outputs": [],
   "source": [
    "out = clf(torch.Tensor(X_test.to_numpy()))"
   ]
  },
  {
   "cell_type": "code",
   "execution_count": 55,
   "metadata": {},
   "outputs": [],
   "source": [
    "out = torch.squeeze(out).detach().numpy()"
   ]
  },
  {
   "cell_type": "code",
   "execution_count": 56,
   "metadata": {},
   "outputs": [
    {
     "name": "stdout",
     "output_type": "stream",
     "text": [
      "              precision    recall  f1-score   support\n",
      "\n",
      "           0       0.97      0.41      0.58    301163\n",
      "           1       0.01      0.24      0.01      5368\n",
      "\n",
      "    accuracy                           0.41    306531\n",
      "   macro avg       0.49      0.33      0.30    306531\n",
      "weighted avg       0.95      0.41      0.57    306531\n",
      "\n",
      "[[123865 177298]\n",
      " [  4069   1299]]\n"
     ]
    }
   ],
   "source": [
    "print(classification_report(y_test, out > 0.5))\n",
    "print(confusion_matrix(y_test, out > 0.5))"
   ]
  },
  {
   "cell_type": "markdown",
   "metadata": {},
   "source": [
    "Notice that in terms of results, this model performs better than XGBoost in nearly every metric except for its precision with respect to the positive class. Is this a meaningful improvement over the XGBoost model? A more full cost-benefit analysis would be required to answer this question. Implementing both models and in a hypothesis test would give a statistically sound answer, or we could determine the heuristic best approach if we had estimates for cost of missing out on the relative value of true positives, true negatives, false positives, and false negatives."
   ]
  },
  {
   "cell_type": "markdown",
   "metadata": {},
   "source": [
    "## Limitations and Future Work\n",
    "\n",
    "Note that there are some limitations to the dataset. First, we are asked to determine those users who are likely to spend money in the game after completing the tutorial. However, the user data is aggregated, so the only information on spending is an aggregate field and we are not guaranteed that users have purchased an item before finishing the tutorial, and then subsequently finished the tutorial (so that they were only likely to spend money in game before finishing the tutorial). While, if items can be purchased before the tutorial, this is likely an extremely small group, it is worth investigating.\n",
    "\n",
    "Another limitation is the aggregate nature of the data. While we achieve okay predictive power for a greatly imbalanced problem, seeing sequential information could lead to more accurate predictions. Future work could involve the use of more complex models to capture more intricate patterns in the data, or could incorporate cost analysis for true positives, true negatives, false positives, and false negatives, to optimize a model based on the estimated cost of each outcome. \n",
    "\n",
    "Regardless the model used, hyperparameter tuning should be done to ensure the chosen architecture is optimal. Given competing models that seem approximately equal, a strategy like multi-armed bandits could be used as well."
   ]
  }
 ],
 "metadata": {
  "kernelspec": {
   "display_name": "Python 3",
   "language": "python",
   "name": "python3"
  },
  "language_info": {
   "codemirror_mode": {
    "name": "ipython",
    "version": 3
   },
   "file_extension": ".py",
   "mimetype": "text/x-python",
   "name": "python",
   "nbconvert_exporter": "python",
   "pygments_lexer": "ipython3",
   "version": "3.7.4"
  }
 },
 "nbformat": 4,
 "nbformat_minor": 2
}
